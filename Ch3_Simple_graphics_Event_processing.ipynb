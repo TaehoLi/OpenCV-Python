{
 "cells": [
  {
   "cell_type": "markdown",
   "metadata": {},
   "source": [
    "## 1. Draw straight and square"
   ]
  },
  {
   "cell_type": "markdown",
   "metadata": {},
   "source": [
    "### 1.1 draw straight and square"
   ]
  },
  {
   "cell_type": "code",
   "execution_count": 1,
   "metadata": {},
   "outputs": [],
   "source": [
    "import cv2\n",
    "import numpy as np\n",
    "\n",
    "# White background\n",
    "img = np.zeros(shape=(512,512,3), dtype=np.uint8) + 255\n",
    "#img = np.ones((512,512,3), np.uint8) * 255\n",
    "#img = np.full((512,512,3), (255, 255, 255), dtype= np.uint8)\n",
    "#img = np.zeros((512,512, 3), np.uint8) # Black background\n",
    "pt1 = 100, 100\n",
    "pt2 = 400, 400\n",
    "cv2.rectangle(img, pt1, pt2, (0, 255, 0), 2)\n",
    "\n",
    "cv2.line(img, (0, 0), (500, 0), (255, 0, 0), 5)\n",
    "cv2.line(img, (0, 0), (0, 500), (0,0,255), 5)\n",
    "\n",
    "cv2.imshow('img', img)\n",
    "cv2.waitKey()\n",
    "cv2.destroyAllWindows()"
   ]
  },
  {
   "cell_type": "markdown",
   "metadata": {},
   "source": [
    "### 1.2 straight-square intersection"
   ]
  },
  {
   "cell_type": "code",
   "execution_count": 2,
   "metadata": {},
   "outputs": [],
   "source": [
    "import cv2\n",
    "import numpy as np\n",
    "\n",
    "img = np.zeros(shape=(512,512,3), dtype=np.uint8) + 255\n",
    "\n",
    "x1, x2 = 100, 400\n",
    "y1, y2 = 100, 400\n",
    "cv2.rectangle(img, (x1, y1), (x2, y2), (0, 0, 255))\n",
    "\n",
    "pt1 = 120, 50\n",
    "pt2 = 300, 500\n",
    "cv2.line(img, pt1, pt2, (255,0,0), 2)\n",
    "\n",
    "imgRect = (x1, y1, x2-x1, y2-y1)\n",
    "retval, rpt1, rpt2 = cv2.clipLine(imgRect, pt1, pt2)\n",
    "if retval:\n",
    "    cv2.circle(img, rpt1, radius=5, color=(0, 255, 0), thickness=-1)\n",
    "    cv2.circle(img, rpt2, radius=5, color=(0, 255, 0), thickness=-1)\n",
    "\n",
    "cv2.imshow('img', img)\n",
    "cv2.waitKey()\n",
    "cv2.destroyAllWindows()"
   ]
  },
  {
   "cell_type": "markdown",
   "metadata": {},
   "source": [
    "## 2. Draw circles and ellipses"
   ]
  },
  {
   "cell_type": "markdown",
   "metadata": {},
   "source": [
    "### 2.1 draw circles"
   ]
  },
  {
   "cell_type": "code",
   "execution_count": 3,
   "metadata": {},
   "outputs": [],
   "source": [
    "import cv2\n",
    "import numpy as np\n",
    "\n",
    "img = np.zeros(shape=(512,512,3), dtype=np.uint8) + 255\n",
    "cx = img.shape[0]//2\n",
    "cy = img.shape[1]//2\n",
    "\n",
    "for r in range(200, 0, -100):\n",
    "    cv2.circle(img, (cx, cy), r, color=(255, 0, 0))\n",
    "\n",
    "cv2.circle(img, (cx, cy), radius=50, color=(0, 0, 255), thickness=-1)\n",
    "\n",
    "cv2.imshow('img', img)\n",
    "cv2.waitKey()\n",
    "cv2.destroyAllWindows()"
   ]
  },
  {
   "cell_type": "markdown",
   "metadata": {},
   "source": [
    "### 2.2 draw ellipses"
   ]
  },
  {
   "cell_type": "code",
   "execution_count": 4,
   "metadata": {},
   "outputs": [],
   "source": [
    "import cv2\n",
    "import numpy as np\n",
    "\n",
    "img = np.zeros(shape=(512,512,3), dtype=np.uint8) + 255\n",
    "ptCenter = img.shape[0]//2, img.shape[1]//2\n",
    "size = 200,100\n",
    "\n",
    "cv2.ellipse(img, ptCenter, size, 0, 0, 360, (255, 0, 0))\n",
    "cv2.ellipse(img, ptCenter, size, 45, 0, 360, (0, 0, 255))\n",
    "\n",
    "box = (ptCenter, size, 0)\n",
    "cv2.ellipse(img, box,  (255, 0, 0), 5)\n",
    "\n",
    "box = (ptCenter, size, 45)\n",
    "cv2.ellipse(img, box,  (0, 0, 255), 5)\n",
    "\n",
    "cv2.imshow('img', img)\n",
    "cv2.waitKey()\n",
    "cv2.destroyAllWindows()"
   ]
  },
  {
   "cell_type": "markdown",
   "metadata": {},
   "source": [
    "## 3. Draw polygon"
   ]
  },
  {
   "cell_type": "markdown",
   "metadata": {},
   "source": [
    "### 3.1 draw polygon 1"
   ]
  },
  {
   "cell_type": "code",
   "execution_count": 5,
   "metadata": {},
   "outputs": [],
   "source": [
    "import cv2\n",
    "import numpy as np\n",
    "\n",
    "img = np.zeros(shape=(512,512,3), dtype=np.uint8) + 255\n",
    "\n",
    "pts1 = np.array([[100, 100], [200, 100], [200, 200], [100, 200]])\n",
    "pts2 = np.array([[300, 200], [400, 100], [400, 200]])\n",
    "\n",
    "cv2.polylines(img, [pts1, pts2], isClosed=True, color=(255, 0, 0))\n",
    "\n",
    "cv2.imshow('img', img)\n",
    "cv2.waitKey()\n",
    "cv2.destroyAllWindows()"
   ]
  },
  {
   "cell_type": "markdown",
   "metadata": {},
   "source": [
    "### 3.2 draw polygon 2"
   ]
  },
  {
   "cell_type": "code",
   "execution_count": 6,
   "metadata": {},
   "outputs": [],
   "source": [
    "import cv2\n",
    "import numpy as np\n",
    "\n",
    "img = np.zeros(shape=(512,512,3), dtype=np.uint8) + 255\n",
    "\n",
    "ptCenter = img.shape[0]//2, img.shape[1]//2\n",
    "size = 200,100\n",
    "\n",
    "cv2.ellipse(img, ptCenter, size, 0, 0, 360, (255, 0, 0))\n",
    "pts1 = cv2.ellipse2Poly(ptCenter, size,  0, 0, 360, delta=45)\n",
    "\n",
    "cv2.ellipse(img, ptCenter, size, 45, 0, 360, (255, 0, 0))\n",
    "pts2 = cv2.ellipse2Poly(ptCenter, size, 45, 0, 360, delta=45)\n",
    "\n",
    "cv2.polylines(img, [pts1, pts2], isClosed=True, color=(0, 0, 255))\n",
    "\n",
    "cv2.imshow('img', img)\n",
    "cv2.waitKey()\n",
    "cv2.destroyAllWindows()"
   ]
  },
  {
   "cell_type": "markdown",
   "metadata": {},
   "source": [
    "### 3.3 draw polygon 3: square rotation"
   ]
  },
  {
   "cell_type": "code",
   "execution_count": 7,
   "metadata": {},
   "outputs": [],
   "source": [
    "import cv2\n",
    "import numpy as np\n",
    "\n",
    "img = np.zeros(shape=(512,512,3), dtype=np.uint8) + 255\n",
    "\n",
    "x, y = 256, 256\n",
    "size = 200\n",
    "\n",
    "for angle in range(0, 90, 10):\n",
    "    rect = ((256, 256), (size, size), angle)\n",
    "    box = cv2.boxPoints(rect).astype(np.int32)\n",
    "    r = np.random.randint(256)\n",
    "    g = np.random.randint(256)\n",
    "    b = np.random.randint(256)   \n",
    "    cv2.polylines(img, [box], True, (r, g, b), 2)\n",
    "    \n",
    "cv2.imshow('img', img)\n",
    "cv2.waitKey()\n",
    "cv2.destroyAllWindows()"
   ]
  },
  {
   "cell_type": "markdown",
   "metadata": {},
   "source": [
    "### 3.4 fill polygon"
   ]
  },
  {
   "cell_type": "code",
   "execution_count": 8,
   "metadata": {},
   "outputs": [],
   "source": [
    "import cv2\n",
    "import numpy as np\n",
    "\n",
    "img = np.zeros(shape=(512,512,3), dtype=np.uint8) + 255\n",
    "\n",
    "pts1 = np.array([[100, 100], [200, 100], [200, 200], [100, 200]])\n",
    "pts2 = np.array([[300, 200], [400, 100], [400, 200]])\n",
    "\n",
    "cv2.fillConvexPoly(img, pts1, color=(255, 0, 0))\n",
    "\n",
    "cv2.fillPoly(img, [pts2], color=(0, 0, 255))\n",
    "#cv2.fillPoly(img, [pts1, pts2], color=(0, 0, 255))\n",
    "\n",
    "cv2.imshow('img', img)\n",
    "cv2.waitKey()\n",
    "cv2.destroyAllWindows()"
   ]
  },
  {
   "cell_type": "markdown",
   "metadata": {},
   "source": [
    "## 4. Print string"
   ]
  },
  {
   "cell_type": "markdown",
   "metadata": {},
   "source": [
    "### 4.1 print string"
   ]
  },
  {
   "cell_type": "code",
   "execution_count": 9,
   "metadata": {},
   "outputs": [],
   "source": [
    "import numpy as np\n",
    "import cv2\n",
    "\n",
    "img = np.zeros(shape=(512,512,3), dtype=np.uint8) + 255\n",
    "text = 'OpenCV Programming'\n",
    "org = (50,100)\n",
    "font = cv2.FONT_HERSHEY_SIMPLEX\n",
    "cv2.putText(img,text, org, font, 1, (255,0,0), 2)\n",
    "\n",
    "size, baseLine = cv2.getTextSize(text, font, 1, 2)\n",
    "#print('size=', size)\n",
    "#print('baseLine=', baseLine)\n",
    "cv2.rectangle(img, org, (org[0]+size[0], org[1]-size[1]), (0, 0, 255))\n",
    "cv2.circle(img, org, 3, (0, 255,0), 2)\n",
    "\n",
    "cv2.imshow('img', img)\n",
    "cv2.waitKey()\n",
    "cv2.destroyAllWindows()"
   ]
  },
  {
   "cell_type": "markdown",
   "metadata": {},
   "source": [
    "## 5. Keyboard event handling"
   ]
  },
  {
   "cell_type": "markdown",
   "metadata": {},
   "source": [
    "### 5.1 keyboard event handling"
   ]
  },
  {
   "cell_type": "code",
   "execution_count": 10,
   "metadata": {},
   "outputs": [
    {
     "data": {
      "text/plain": [
       "\"\\n# How to find a key_value in keyboard\\n\\nimport cv2\\nimg = cv2.imread('abc.jpg') # load a dummy image\\nwhile True:\\n    cv2.imshow('img',img)\\n    k = cv2.waitKey(30)\\n    if k == 27: # Esc key to stop\\n        break\\n    elif k == -1: # normally -1 returned,so don't print it\\n        continue\\n    else:\\n        print(k) # else print its value\\ncv2.destroyAllWindows()\\n\""
      ]
     },
     "execution_count": 10,
     "metadata": {},
     "output_type": "execute_result"
    }
   ],
   "source": [
    "import numpy as np\n",
    "import cv2\n",
    "\n",
    "width, height = 512, 512\n",
    "x, y, R = 256, 256, 50\n",
    "\n",
    "while True:   \n",
    "    key = cv2.waitKey(30)  \n",
    "    \n",
    "    if key == 27: \n",
    "        break\n",
    "# direction key\n",
    "    elif key == 83: # right\n",
    "        x += 10\n",
    "        \n",
    "    elif key == 84: # down\n",
    "        y += 10\n",
    "        \n",
    "    elif key == 81: # left\n",
    "        x -= 10\n",
    "        \n",
    "    elif key == 82: # up\n",
    "        y -= 10\n",
    "\n",
    "# confirm barrier\n",
    "    if x < R:\n",
    "        x = R\n",
    "        \n",
    "    if x > width - R:\n",
    "        x = width - R\n",
    "        \n",
    "    if y < R:\n",
    "        y = R\n",
    "        \n",
    "    if y > height - R:\n",
    "        y = height - R\n",
    "        \n",
    "\n",
    "# erase, draw\n",
    "    img = np.zeros((width, height, 3), np.uint8) + 255 # erase\n",
    "    cv2.circle(img, (x, y), R, color=(0, 0, 255), thickness=-1) # draw\n",
    "    cv2.imshow('img', img)\n",
    "    \n",
    "cv2.destroyAllWindows()\n",
    "\n",
    "\"\"\"\n",
    "# How to find a key_value in keyboard\n",
    "\n",
    "import cv2\n",
    "img = cv2.imread('abc.jpg') # load a dummy image\n",
    "while True:\n",
    "    cv2.imshow('img',img)\n",
    "    k = cv2.waitKey(30)\n",
    "    if k == 27: # Esc key to stop\n",
    "        break\n",
    "    elif k == -1: # normally -1 returned,so don't print it\n",
    "        continue\n",
    "    else:\n",
    "        print(k) # else print its value\n",
    "cv2.destroyAllWindows()\n",
    "\"\"\""
   ]
  },
  {
   "cell_type": "markdown",
   "metadata": {},
   "source": [
    "## 6. Mouse event handling"
   ]
  },
  {
   "cell_type": "markdown",
   "metadata": {},
   "source": [
    "### 6.1 mouse event handling"
   ]
  },
  {
   "cell_type": "code",
   "execution_count": 11,
   "metadata": {},
   "outputs": [],
   "source": [
    "import numpy as np\n",
    "import cv2\n",
    "\n",
    "def onMouse(event, x, y, flags, param):\n",
    "##  global img\n",
    "    if event == cv2.EVENT_LBUTTONDOWN: # Left button of the mouse is clicked\n",
    "        if flags & cv2.EVENT_FLAG_SHIFTKEY: # \n",
    "            cv2.rectangle(param[0], (x-5, y-5), (x+5, y+5), (255, 0, 0))\n",
    "        else: \n",
    "            cv2.circle(param[0], (x, y), 5, (255, 0, 0), 3)\n",
    "    elif event == cv2.EVENT_RBUTTONDOWN: # Right button of the mouse is clicked\n",
    "        cv2.circle(param[0], (x, y), 5, (0, 0, 255), 3)        \n",
    "    elif event == cv2.EVENT_LBUTTONDBLCLK: # Left button of the mouse is double-clicked\n",
    "        param[0] = np.zeros(param[0].shape, np.uint8) + 255 # erase\n",
    "    cv2.imshow(\"img\", param[0])\n",
    "    \n",
    "img = np.zeros((512,512,3), np.uint8) + 255\n",
    "cv2.imshow('img', img)\n",
    "cv2.setMouseCallback('img', onMouse, [img])\n",
    "\n",
    "while True:\n",
    "    key = cv2.waitKey()\n",
    "    if key == 27:\n",
    "        break\n",
    "cv2.destroyAllWindows()"
   ]
  },
  {
   "cell_type": "markdown",
   "metadata": {},
   "source": [
    "## 7. Trackbar event handling"
   ]
  },
  {
   "cell_type": "markdown",
   "metadata": {},
   "source": [
    "### 7.1 trackbar event handling"
   ]
  },
  {
   "cell_type": "code",
   "execution_count": 12,
   "metadata": {},
   "outputs": [],
   "source": [
    "import numpy as np\n",
    "import cv2\n",
    "\n",
    "def onChange(pos): # trackbar handler\n",
    "    global img\n",
    "    r = cv2.getTrackbarPos('R','img')\n",
    "    g = cv2.getTrackbarPos('G','img')\n",
    "    b = cv2.getTrackbarPos('B','img')                   \n",
    "    img[:] = (b, g, r)\n",
    "    cv2.imshow('img', img)\n",
    "\n",
    "img = np.zeros((512, 512, 3), np.uint8)\n",
    "cv2.imshow('img',img)\n",
    "\n",
    "# make trackbar\n",
    "cv2.createTrackbar('R', 'img', 0, 255, onChange)\n",
    "cv2.createTrackbar('G', 'img', 0, 255, onChange)\n",
    "cv2.createTrackbar('B', 'img', 0, 255, onChange)\n",
    "\n",
    "# reset trackbar position\n",
    "#cv2.setTrackbarPos('R', 'img', 0)\n",
    "#cv2.setTrackbarPos('G', 'img', 0)\n",
    "cv2.setTrackbarPos('B', 'img', 255)\n",
    "\n",
    "cv2.waitKey()\n",
    "cv2.destroyAllWindows()"
   ]
  },
  {
   "cell_type": "code",
   "execution_count": null,
   "metadata": {},
   "outputs": [],
   "source": []
  }
 ],
 "metadata": {
  "kernelspec": {
   "display_name": "Python 3",
   "language": "python",
   "name": "python3"
  },
  "language_info": {
   "codemirror_mode": {
    "name": "ipython",
    "version": 3
   },
   "file_extension": ".py",
   "mimetype": "text/x-python",
   "name": "python",
   "nbconvert_exporter": "python",
   "pygments_lexer": "ipython3",
   "version": "3.6.7"
  }
 },
 "nbformat": 4,
 "nbformat_minor": 2
}
