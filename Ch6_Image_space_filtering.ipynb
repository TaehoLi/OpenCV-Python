{
 "cells": [
  {
   "cell_type": "markdown",
   "metadata": {},
   "source": [
    "## 1. Blur filter"
   ]
  },
  {
   "cell_type": "markdown",
   "metadata": {},
   "source": [
    "### 1.1 boxFilter and bilateralFilter"
   ]
  },
  {
   "cell_type": "code",
   "execution_count": 1,
   "metadata": {},
   "outputs": [],
   "source": [
    "import cv2\n",
    "import numpy as np\n",
    "\n",
    "src = cv2.imread('./data/lena.jpg', cv2.IMREAD_GRAYSCALE)\n",
    "\n",
    "dst1= cv2.boxFilter(src, ddepth=-1, ksize=(11, 11))\n",
    "dst2 = cv2.boxFilter(src, ddepth=-1, ksize=(21, 21))\n",
    "\n",
    "dst3 = cv2.bilateralFilter(src, d=11, sigmaColor=10, sigmaSpace=10)\n",
    "dst4 = cv2.bilateralFilter(src, d=-1, sigmaColor=10, sigmaSpace=10)\n",
    "\n",
    "cv2.imshow('dst1',  dst1)    \n",
    "cv2.imshow('dst2',  dst2)\n",
    "cv2.imshow('dst3',  dst3)\n",
    "cv2.imshow('dst4',  dst4)\n",
    "cv2.waitKey()    \n",
    "cv2.destroyAllWindows()"
   ]
  },
  {
   "cell_type": "markdown",
   "metadata": {},
   "source": [
    "### 1.2 median filter, blur, Gaussian filter"
   ]
  },
  {
   "cell_type": "code",
   "execution_count": 2,
   "metadata": {},
   "outputs": [],
   "source": [
    "import cv2\n",
    "import numpy as np\n",
    "\n",
    "src = cv2.imread('./data/lena.jpg', cv2.IMREAD_GRAYSCALE)\n",
    "\n",
    "dst1= cv2.medianBlur(src, ksize = 7)\n",
    "dst2 = cv2.blur(src, ksize=(7, 7))\n",
    "dst3 = cv2.GaussianBlur(src, ksize=(7, 7), sigmaX=0.0)\n",
    "dst4 = cv2.GaussianBlur(src, ksize=(7, 7), sigmaX=10.0)\n",
    "\n",
    "cv2.imshow('dst1',  dst1)    \n",
    "cv2.imshow('dst2',  dst2)\n",
    "cv2.imshow('dst3',  dst3)\n",
    "cv2.imshow('dst4',  dst4)\n",
    "cv2.waitKey()    \n",
    "cv2.destroyAllWindows()"
   ]
  },
  {
   "cell_type": "markdown",
   "metadata": {},
   "source": [
    "## 2. Differential filter"
   ]
  },
  {
   "cell_type": "markdown",
   "metadata": {},
   "source": [
    "### 2.1 Sobel filter 1"
   ]
  },
  {
   "cell_type": "code",
   "execution_count": 3,
   "metadata": {},
   "outputs": [
    {
     "name": "stdout",
     "output_type": "stream",
     "text": [
      "mag: 0.0 1053.8966064453125 (0, 0) (356, 328)\n"
     ]
    }
   ],
   "source": [
    "import cv2\n",
    "import numpy as np\n",
    "\n",
    "src = cv2.imread('./data/rect.jpg', cv2.IMREAD_GRAYSCALE)\n",
    "#1\n",
    "gx = cv2.Sobel(src, cv2.CV_32F, 1, 0, ksize = 3)\n",
    "gy = cv2.Sobel(src, cv2.CV_32F, 0, 1, ksize = 3)\n",
    "\n",
    "#2\n",
    "dstX = cv2.sqrt(np.abs(gx))\n",
    "dstX = cv2.normalize(dstX, None, 0, 255, cv2.NORM_MINMAX, dtype=cv2.CV_8U)\n",
    "\n",
    "#3\n",
    "dstY = cv2.sqrt(np.abs(gy))\n",
    "dstY = cv2.normalize(dstY, None, 0, 255, cv2.NORM_MINMAX, dtype=cv2.CV_8U)\n",
    "\n",
    "#4\n",
    "mag   = cv2.magnitude(gx, gy)\n",
    "minVal, maxVal, minLoc, maxLoc = cv2.minMaxLoc(mag)\n",
    "print('mag:', minVal, maxVal, minLoc, maxLoc)\n",
    "\n",
    "dstM = cv2.normalize(mag, None, 0, 255, cv2.NORM_MINMAX, dtype=cv2.CV_8U)\n",
    "\n",
    "cv2.imshow('src',  src)\n",
    "cv2.imshow('dstX',  dstX)    \n",
    "cv2.imshow('dstY',  dstY)\n",
    "cv2.imshow('dstM',  dstM)\n",
    "cv2.waitKey()\n",
    "cv2.destroyAllWindows()"
   ]
  },
  {
   "cell_type": "markdown",
   "metadata": {},
   "source": [
    "### 2.2 Sobel filter 2: Edge gradient orientation"
   ]
  },
  {
   "cell_type": "code",
   "execution_count": 4,
   "metadata": {},
   "outputs": [
    {
     "name": "stdout",
     "output_type": "stream",
     "text": [
      "angle: 0.0 359.8861083984375 (0, 0) (357, 120)\n"
     ]
    },
    {
     "data": {
      "image/png": "[encoded data removed]",
      "text/plain": [
       "<Figure size 432x288 with 1 Axes>"
      ]
     },
     "metadata": {
      "needs_background": "light"
     },
     "output_type": "display_data"
    }
   ],
   "source": [
    "import cv2\n",
    "import numpy as np\n",
    "from matplotlib import pyplot as plt\n",
    "%matplotlib inline\n",
    "\n",
    "src = cv2.imread('./data/rect.jpg', cv2.IMREAD_GRAYSCALE)\n",
    "##src = cv2.imread('./data/line.png', cv2.IMREAD_GRAYSCALE)\n",
    "cv2.imshow('src',  src)\n",
    "\n",
    "#1\n",
    "gx = cv2.Sobel(src, cv2.CV_32F, 1, 0, ksize = 3)\n",
    "gy = cv2.Sobel(src, cv2.CV_32F, 0, 1, ksize = 3)\n",
    "\n",
    "mag, angle = cv2.cartToPolar(gx, gy, angleInDegrees=True)\n",
    "minVal, maxVal, minLoc, maxLoc = cv2.minMaxLoc(angle)\n",
    "print('angle:', minVal, maxVal, minLoc, maxLoc)\n",
    "\n",
    "#2\n",
    "ret, edge = cv2.threshold(mag, 100, 255, cv2.THRESH_BINARY)\n",
    "edge = edge.astype(np.uint8)\n",
    "cv2.imshow('edge',  edge)\n",
    "\n",
    "#3\n",
    "width, height = mag.shape[:2]\n",
    "angleM = np.full((width,height,3), (255, 255, 255), dtype= np.uint8)\n",
    "for y in range(height):\n",
    "    for x in range(width):\n",
    "        if edge[y, x] != 0: # if mag[y, x] > 100: # edge\n",
    "            if angle[y, x] ==   0:\n",
    "                angleM[y, x] =  (0, 0, 255)   # red\n",
    "            elif angle[y, x] == 90:\n",
    "                 angleM[y, x] = (0, 255, 0)   # green\n",
    "            elif angle[y, x] ==180:\n",
    "                 angleM[y, x] = (255, 0, 0)   # blue                 \n",
    "            elif angle[y, x] ==270:\n",
    "                 angleM[y, x] = (0, 255, 255) # yellow\n",
    "            else:\n",
    "                angleM[y, x] =  (128, 128, 128) # gray                \n",
    "cv2.imshow('angleM',  angleM)\n",
    "##cv2.waitKey()    \n",
    "##cv2.destroyAllWindows()\n",
    "\n",
    "#4\n",
    "hist = cv2.calcHist(images=[angle], channels=[0], mask=edge,\n",
    "                    histSize=[360], ranges=[0, 360])\n",
    "\n",
    "hist = hist.flatten()\n",
    "##plt.title('hist: binX = np.arange(360)')\n",
    "plt.plot(hist, color='r')\n",
    "binX = np.arange(360)\n",
    "plt.bar(binX, hist, width=1, color='b')\n",
    "plt.show()\n",
    "\n",
    "cv2.waitKey()\n",
    "cv2.destroyAllWindows()"
   ]
  },
  {
   "cell_type": "markdown",
   "metadata": {},
   "source": [
    "### 2.3 Laplacian filter 1"
   ]
  },
  {
   "cell_type": "code",
   "execution_count": 5,
   "metadata": {},
   "outputs": [
    {
     "name": "stdout",
     "output_type": "stream",
     "text": [
      "lap: -239.0 189.0 (404, 181) (221, 287)\n",
      "lap2: -35.0 30.0 (180, 435) (367, 449)\n"
     ]
    }
   ],
   "source": [
    "import cv2\n",
    "import numpy as np\n",
    "\n",
    "#1\n",
    "src = cv2.imread('./data/lena.jpg', cv2.IMREAD_GRAYSCALE)\n",
    "blur= cv2.GaussianBlur(src, ksize=(7, 7), sigmaX=0.0)\n",
    "cv2.imshow('src',  src)\n",
    "cv2.imshow('blur', blur)\n",
    "\n",
    "#2\n",
    "lap  = cv2.Laplacian(src, cv2.CV_32F)\n",
    "minVal, maxVal, minLoc, maxLoc = cv2.minMaxLoc(lap)\n",
    "print('lap:', minVal, maxVal, minLoc, maxLoc)\n",
    "dst = cv2.convertScaleAbs(lap)\n",
    "dst = cv2.normalize(dst, None, 0, 255, cv2.NORM_MINMAX)\n",
    "cv2.imshow('lap',  lap)\n",
    "cv2.imshow('dst',  dst)\n",
    "\n",
    "#3\n",
    "lap2 = cv2.Laplacian(blur, cv2.CV_32F)\n",
    "minVal, maxVal, minLoc, maxLoc = cv2.minMaxLoc(lap2)\n",
    "print('lap2:', minVal, maxVal, minLoc, maxLoc)\n",
    "dst2 = cv2.convertScaleAbs(lap2)\n",
    "dst2 = cv2.normalize(dst2, None, 0, 255, cv2.NORM_MINMAX)\n",
    "\n",
    "cv2.imshow('lap2',  lap2)\n",
    "cv2.imshow('dst2',  dst2)\n",
    "\n",
    "cv2.waitKey()    \n",
    "cv2.destroyAllWindows()"
   ]
  },
  {
   "cell_type": "markdown",
   "metadata": {},
   "source": [
    "### 2.4 Laplacian filter 2: Zero-crossing"
   ]
  },
  {
   "cell_type": "code",
   "execution_count": 6,
   "metadata": {},
   "outputs": [],
   "source": [
    "import cv2\n",
    "import numpy as np\n",
    "\n",
    "#1\n",
    "#src  = cv2.imread('./data/rect.jpg', cv2.IMREAD_GRAYSCALE)\n",
    "src  = cv2.imread('./data/lena.jpg', cv2.IMREAD_GRAYSCALE)\n",
    "blur = cv2.GaussianBlur(src, ksize=(15, 15), sigmaX=0.0)\n",
    "lap = cv2.Laplacian(blur, cv2.CV_32F,3)\n",
    "\n",
    "##ret, edge = cv2.threshold(np.abs(lap), 10, 255, cv2.THRESH_BINARY)\n",
    "##edge = edge.astype(np.uint8)\n",
    "##cv2.imshow('edge',  edge)\n",
    "\n",
    "#2\n",
    "def SGN(x):\n",
    "    if x >= 0:\n",
    "        sign = 1\n",
    "    else:\n",
    "        sign = -1\n",
    "    return sign\n",
    "\n",
    "def zeroCrossing(lap):\n",
    "    width, height = lap.shape\n",
    "    Z = np.zeros(lap.shape, dtype=np.uint8)    \n",
    "    for y in range(1, height-1):\n",
    "        for x in range(1,width-1):\n",
    "            neighbors=[lap[y-1,x], lap[y+1,x], lap[y,x-1], lap[y,x+1],\n",
    "                       lap[y-1,x-1], lap[y-1,x+1], lap[y+1,x-1], lap[y+1,x+1]]                       \n",
    "            mValue= min(neighbors)\n",
    "            if SGN(lap[y,x]) != SGN(mValue):\n",
    "                Z[y, x] = 255\n",
    "    return Z\n",
    "edgeZ = zeroCrossing(lap)\n",
    "cv2.imshow('Zero Crossing',  edgeZ)\n",
    "cv2.waitKey()    \n",
    "cv2.destroyAllWindows()"
   ]
  },
  {
   "cell_type": "markdown",
   "metadata": {},
   "source": [
    "## 3. General filter operations"
   ]
  },
  {
   "cell_type": "markdown",
   "metadata": {},
   "source": [
    "### 3.1 edge detection using cv2.filter2D() & cv2.sepFilter2D()"
   ]
  },
  {
   "cell_type": "code",
   "execution_count": 7,
   "metadata": {},
   "outputs": [
    {
     "name": "stdout",
     "output_type": "stream",
     "text": [
      "kx= [[-1.]\n",
      " [ 0.]\n",
      " [ 1.]]\n",
      "ky= [[1.]\n",
      " [2.]\n",
      " [1.]]\n",
      "sobelX= [[-1.  0.  1.]\n",
      " [-2.  0.  2.]\n",
      " [-1.  0.  1.]]\n",
      "kx= [[1.]\n",
      " [2.]\n",
      " [1.]]\n",
      "ky= [[-1.]\n",
      " [ 0.]\n",
      " [ 1.]]\n",
      "sobelY= [[-1. -2. -1.]\n",
      " [ 0.  0.  0.]\n",
      " [ 1.  2.  1.]]\n"
     ]
    }
   ],
   "source": [
    "import cv2\n",
    "import numpy as np\n",
    "\n",
    "#src  = cv2.imread('./data/rect.jpg', cv2.IMREAD_GRAYSCALE)\n",
    "src  = cv2.imread('./data/lena.jpg', cv2.IMREAD_GRAYSCALE)\n",
    "\n",
    "#1\n",
    "kx, ky = cv2.getDerivKernels(1, 0, ksize=3)\n",
    "sobelX = ky.dot(kx.T)\n",
    "print('kx=', kx)\n",
    "print('ky=', ky)\n",
    "print('sobelX=', sobelX)\n",
    "gx = cv2.filter2D(src, cv2.CV_32F, sobelX)\n",
    "##gx = cv2.sepFilter2D(src, cv2.CV_32F, kx, ky)\n",
    "\n",
    "#2\n",
    "kx, ky = cv2.getDerivKernels(0, 1, ksize=3)\n",
    "sobelY = ky.dot(kx.T)\n",
    "print('kx=', kx)\n",
    "print('ky=', ky)\n",
    "print('sobelY=', sobelY)\n",
    "gy = cv2.filter2D(src, cv2.CV_32F, sobelY)\n",
    "##gy = cv2.sepFilter2D(src, cv2.CV_32F, kx, ky)\n",
    "\n",
    "#3\n",
    "mag   = cv2.magnitude(gx, gy)\n",
    "ret, edge = cv2.threshold(mag, 100, 255, cv2.THRESH_BINARY)\n",
    "\n",
    "cv2.imshow('edge',  edge)\n",
    "cv2.waitKey()    \n",
    "cv2.destroyAllWindows()"
   ]
  },
  {
   "cell_type": "markdown",
   "metadata": {},
   "source": [
    "### 3.2 LoG filtering, zero-crossing edge image"
   ]
  },
  {
   "cell_type": "code",
   "execution_count": 8,
   "metadata": {},
   "outputs": [
    {
     "name": "stdout",
     "output_type": "stream",
     "text": [
      "sigma= 1.4\n"
     ]
    }
   ],
   "source": [
    "import cv2\n",
    "import numpy as np\n",
    "\n",
    "src  = cv2.imread('./data/lena.jpg', cv2.IMREAD_GRAYSCALE)\n",
    "\n",
    "#1\n",
    "def logFilter(ksize=7):\n",
    "    k2 = ksize//2\n",
    "    sigma = 0.3*(k2-1) + 0.8\n",
    "    print('sigma=', sigma)\n",
    "    LoG = np.zeros((ksize, ksize), dtype=np.float32)\n",
    "    for y in range(-k2, k2+1):\n",
    "        for x in range(-k2, k2+1):\n",
    "            g = -(x*x+y*y)/(2.0*sigma**2.0)\n",
    "            LoG[y+k2, x+k2] = -(1.0+g)*np.exp(g)/(np.pi*sigma**4.0)\n",
    "    return LoG\n",
    "\n",
    "#2\n",
    "kernel = logFilter() #7, 15, 31, 51\n",
    "LoG = cv2.filter2D(src, cv2.CV_32F, kernel)\n",
    "cv2.imshow('LoG',  LoG)\n",
    "\n",
    "#3\n",
    "def zeroCrossing2(lap, thresh=0.01):\n",
    "    width, height = lap.shape\n",
    "    Z = np.zeros(lap.shape, dtype=np.uint8)    \n",
    "    for y in range(1, height-1):\n",
    "        for x in range(1,width-1):\n",
    "            neighbors=[lap[y-1,x],   lap[y+1,x],   lap[y,x-1],   lap[y,x+1],\n",
    "                       lap[y-1,x-1], lap[y-1,x+1], lap[y+1,x-1], lap[y+1,x+1]]\n",
    "            pos = 0\n",
    "            neg = 0\n",
    "            for value in neighbors:\n",
    "                if value > thresh:\n",
    "                    pos += 1\n",
    "                if value < -thresh:  # value < thresh\n",
    "                    neg += 1\n",
    "            if pos > 0 and neg > 0:\n",
    "                Z[y, x] = 255                        \n",
    "    return Z\n",
    "edgeZ = zeroCrossing2(LoG)\n",
    "cv2.imshow('Zero Crossing2',  edgeZ)\n",
    "cv2.waitKey()    \n",
    "cv2.destroyAllWindows()"
   ]
  },
  {
   "cell_type": "markdown",
   "metadata": {},
   "source": [
    "## 4. Morphological operations"
   ]
  },
  {
   "cell_type": "markdown",
   "metadata": {},
   "source": [
    "### 4.1 erode() & dilate()"
   ]
  },
  {
   "cell_type": "code",
   "execution_count": 9,
   "metadata": {},
   "outputs": [],
   "source": [
    "import cv2\n",
    "import numpy as np\n",
    "\n",
    "src   = cv2.imread('./data/morphology.jpg', cv2.IMREAD_GRAYSCALE)\n",
    "kernel= cv2.getStructuringElement(shape=cv2.MORPH_RECT, ksize=(3,3))\n",
    "erode = cv2.erode(src,kernel,iterations = 5)\n",
    "dilate = cv2.dilate(src,kernel,iterations = 5)\n",
    "erode2= cv2.erode(dilate,kernel,iterations = 7)\n",
    "##dilate2= cv2.dilate(erode2,kernel,iterations = 2)\n",
    "\n",
    "cv2.imshow('src',    src)\n",
    "cv2.imshow('erode',  erode)\n",
    "cv2.imshow('dilate', dilate)\n",
    "cv2.imshow('erode2', erode2)\n",
    "##cv2.imshow('dilate2',    dilate2)\n",
    "cv2.waitKey()\n",
    "cv2.destroyAllWindows()"
   ]
  },
  {
   "cell_type": "markdown",
   "metadata": {},
   "source": [
    "### 4.2 morphologyEx()"
   ]
  },
  {
   "cell_type": "code",
   "execution_count": 10,
   "metadata": {},
   "outputs": [],
   "source": [
    "import cv2\n",
    "import numpy as np\n",
    "\n",
    "src   = cv2.imread('./data/morphology.jpg', cv2.IMREAD_GRAYSCALE)\n",
    "kernel= cv2.getStructuringElement(shape=cv2.MORPH_RECT, ksize=(3,3))\n",
    "closing = cv2.morphologyEx(src,cv2.MORPH_CLOSE,kernel,iterations = 5)\n",
    "opening = cv2.morphologyEx(closing,cv2.MORPH_OPEN,kernel,iterations = 5)\n",
    "gradient = cv2.morphologyEx(opening,cv2.MORPH_GRADIENT,kernel)\n",
    "#gradient=cv2.morphologyEx(opening,cv2.MORPH_GRADIENT,kernel, iterations=5)\n",
    "\n",
    "tophat = cv2.morphologyEx(src,cv2.MORPH_TOPHAT,kernel,iterations = 5)\n",
    "balckhat = cv2.morphologyEx(src,cv2.MORPH_BLACKHAT,kernel,iterations = 5)\n",
    "\n",
    "cv2.imshow('opening',  opening)\n",
    "cv2.imshow('closing',  closing)\n",
    "cv2.imshow('gradient', gradient)\n",
    "cv2.imshow('tophat',   tophat)\n",
    "cv2.imshow('balckhat', balckhat)\n",
    "cv2.waitKey()\n",
    "cv2.destroyAllWindows()"
   ]
  },
  {
   "cell_type": "markdown",
   "metadata": {},
   "source": [
    "### 4.3 morphological operation skeleton"
   ]
  },
  {
   "cell_type": "code",
   "execution_count": 11,
   "metadata": {},
   "outputs": [],
   "source": [
    "\"\"\"\n",
    "ref: https://gist.github.com/jsheedy/3913ab49d344fac4d02bcc887ba4277d\n",
    "ref: http://felix.abecassis.me/2011/09/opencv-morphological-skeleton/\n",
    "\"\"\"\n",
    "import cv2\n",
    "import numpy as np\n",
    "\n",
    "#1\n",
    "#src = cv2.imread('./data/T.jpg', cv2.IMREAD_GRAYSCALE)\n",
    "src = cv2.imread('./data/alphabet.bmp', cv2.IMREAD_GRAYSCALE)\n",
    "src = cv2.bitwise_not(src)\n",
    "\n",
    "ret, A = cv2.threshold(src, 128, 255, cv2.THRESH_BINARY)\n",
    "skel_dst = np.zeros(src.shape, np.uint8)\n",
    "\n",
    "#2\n",
    "shape1=cv2.MORPH_CROSS\n",
    "shape2=cv2.MORPH_RECT\n",
    "B= cv2.getStructuringElement(shape=shape1, ksize=(3,3))\n",
    "done = True\n",
    "while done:   \n",
    "    erode  = cv2.erode(A, B)\n",
    "##  opening = cv2.dilate(erode,B)\n",
    "    opening = cv2.morphologyEx(erode, cv2.MORPH_OPEN, B)\n",
    "    tmp    = cv2.subtract(erode, opening) # cv2.absdiff(erode, opening)\n",
    "    skel_dst = cv2.bitwise_or(skel_dst, tmp)\n",
    "    A = erode.copy()\n",
    "    done = cv2.countNonZero(A) != 0\n",
    "    \n",
    "#cv2.imshow('opening',  opening)\n",
    "#cv2.imshow('tmp',  tmp)    \n",
    "#cv2.imshow('skel_dst',  skel_dst)\n",
    "#cv2.waitKey()\n",
    "\n",
    "cv2.imshow('src',  src)    \n",
    "cv2.imshow('skel_dst',  skel_dst)\n",
    "cv2.waitKey()\n",
    "cv2.destroyAllWindows()"
   ]
  },
  {
   "cell_type": "markdown",
   "metadata": {},
   "source": [
    "## 5. Template matching"
   ]
  },
  {
   "cell_type": "markdown",
   "metadata": {},
   "source": [
    "### 5.1 cv2.matchTemplate()"
   ]
  },
  {
   "cell_type": "code",
   "execution_count": 12,
   "metadata": {},
   "outputs": [
    {
     "name": "stdout",
     "output_type": "stream",
     "text": [
      "TM_SQDIFF_NORMED: 1.6839450722727634e-07 (18, 20)\n",
      "TM_CCORR_NORMED: 1.0 (280, 146)\n",
      "TM_CCOEFF_NORMED: 1.0 (92, 280)\n"
     ]
    }
   ],
   "source": [
    "import cv2\n",
    "import numpy as np\n",
    "\n",
    "src   = cv2.imread('./data/alphabet.bmp', cv2.IMREAD_GRAYSCALE)\n",
    "tmp_A   = cv2.imread('./data/A.bmp', cv2.IMREAD_GRAYSCALE)\n",
    "tmp_S   = cv2.imread('./data/S.bmp', cv2.IMREAD_GRAYSCALE)\n",
    "tmp_b   = cv2.imread('./data/b.bmp', cv2.IMREAD_GRAYSCALE)\n",
    "dst  = cv2.cvtColor(src, cv2.COLOR_GRAY2BGR)  # 출력 표시 영상\n",
    "\n",
    "#1\n",
    "R1 = cv2.matchTemplate(src, tmp_A, cv2.TM_SQDIFF_NORMED)\n",
    "minVal, _, minLoc, _ = cv2.minMaxLoc(R1)\n",
    "print('TM_SQDIFF_NORMED:', minVal, minLoc)\n",
    "\n",
    "w, h = tmp_A.shape[:2]\n",
    "cv2.rectangle(dst, minLoc, (minLoc[0]+h, minLoc[1]+w), (255, 0, 0), 2)\n",
    "\n",
    "#2\n",
    "R2 = cv2.matchTemplate(src, tmp_S, cv2.TM_CCORR_NORMED)\n",
    "_, maxVal, _, maxLoc = cv2.minMaxLoc(R2)\n",
    "print('TM_CCORR_NORMED:', maxVal, maxLoc)\n",
    "w, h = tmp_S.shape[:2]\n",
    "cv2.rectangle(dst, maxLoc, (maxLoc[0]+h, maxLoc[1]+w), (0, 255, 0), 2)\n",
    "\n",
    "#3\n",
    "R3 = cv2.matchTemplate(src, tmp_b, cv2.TM_CCOEFF_NORMED)\n",
    "_, maxVal, _, maxLoc = cv2.minMaxLoc(R3)\n",
    "print('TM_CCOEFF_NORMED:', maxVal, maxLoc)\n",
    "w, h = tmp_b.shape[:2]\n",
    "cv2.rectangle(dst, maxLoc, (maxLoc[0]+h, maxLoc[1]+w), (0, 0, 255), 2)\n",
    "\n",
    "cv2.imshow('dst',  dst)\n",
    "cv2.waitKey()\n",
    "cv2.destroyAllWindows()"
   ]
  },
  {
   "cell_type": "code",
   "execution_count": null,
   "metadata": {},
   "outputs": [],
   "source": []
  }
 ],
 "metadata": {
  "kernelspec": {
   "display_name": "Python 3",
   "language": "python",
   "name": "python3"
  },
  "language_info": {
   "codemirror_mode": {
    "name": "ipython",
    "version": 3
   },
   "file_extension": ".py",
   "mimetype": "text/x-python",
   "name": "python",
   "nbconvert_exporter": "python",
   "pygments_lexer": "ipython3",
   "version": "3.6.7"
  }
 },
 "nbformat": 4,
 "nbformat_minor": 2
}
