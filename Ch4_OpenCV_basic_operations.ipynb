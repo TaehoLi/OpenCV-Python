{
 "cells": [
  {
   "cell_type": "markdown",
   "metadata": {},
   "source": [
    "## 1. Image properties and Pixel approach"
   ]
  },
  {
   "cell_type": "markdown",
   "metadata": {},
   "source": [
    "### 1.1 image properties 1: shape, data type"
   ]
  },
  {
   "cell_type": "code",
   "execution_count": 1,
   "metadata": {},
   "outputs": [
    {
     "name": "stdout",
     "output_type": "stream",
     "text": [
      "img.ndim= 3\n",
      "img.shape= (512, 512, 3)\n",
      "img.dtype= uint8\n",
      "img.dtype= int32\n",
      "img.dtype= uint8\n"
     ]
    }
   ],
   "source": [
    "import cv2\n",
    "import numpy as np\n",
    "\n",
    "img = cv2.imread('./data/lena.jpg') # cv2.IMREAD_COLOR\n",
    "##img = cv2.imread('./data/lena.jpg', cv2.IMREAD_GRAYSCALE)\n",
    "\n",
    "print('img.ndim=', img.ndim)\n",
    "print('img.shape=', img.shape)\n",
    "print('img.dtype=', img.dtype)\n",
    "\n",
    "## np.bool, np.uint16, np.uint32, np.float32, np.float64, np.complex64\n",
    "img=img.astype(np.int32)\n",
    "print('img.dtype=',img.dtype)\n",
    "\n",
    "img=np.uint8(img)\n",
    "print('img.dtype=',img.dtype)"
   ]
  },
  {
   "cell_type": "markdown",
   "metadata": {},
   "source": [
    "### 1.2 image properties 2: change shape"
   ]
  },
  {
   "cell_type": "code",
   "execution_count": 2,
   "metadata": {},
   "outputs": [
    {
     "name": "stdout",
     "output_type": "stream",
     "text": [
      "img.shape= (512, 512)\n",
      "img.shape= (262144,)\n",
      "img.shape= (1, 512, 512)\n"
     ]
    }
   ],
   "source": [
    "import cv2\n",
    "##import numpy as np\n",
    "\n",
    "img = cv2.imread('./data/lena.jpg', cv2.IMREAD_GRAYSCALE)\n",
    "print('img.shape=', img.shape)\n",
    "\n",
    "##img = img.reshape(img.shape[0]*img.shape[1])\n",
    "img = img.flatten()\n",
    "print('img.shape=', img.shape)\n",
    "\n",
    "img = img.reshape(-1, 512, 512)\n",
    "print('img.shape=', img.shape)\n",
    "\n",
    "cv2.imshow('img', img[0])\n",
    "cv2.waitKey()\n",
    "cv2.destroyAllWindows()"
   ]
  },
  {
   "cell_type": "markdown",
   "metadata": {},
   "source": [
    "### 1.3 pixel approach 1: grayscale image"
   ]
  },
  {
   "cell_type": "code",
   "execution_count": 3,
   "metadata": {},
   "outputs": [
    {
     "name": "stdout",
     "output_type": "stream",
     "text": [
      "[[  0 143 145 132 147 144 142 139 132 138]\n",
      " [138 138 143 151 137 144 139 139 138 138]\n",
      " [132 139 153 140 133 136 143 138 137 128]\n",
      " [137 146 138 125 132 145 139 142 130 128]\n",
      " [149 139 130 137 140 145 136 133 132 141]\n",
      " [141 139 134 149 149 137 132 127 140 140]\n",
      " [142 148 139 142 144 138 146 135 131 130]\n",
      " [151 146 136 131 142 144 149 135 126 132]\n",
      " [147 131 135 138 147 139 128 125 134 138]\n",
      " [135 132 149 142 134 128 122 135 138 129]]\n"
     ]
    }
   ],
   "source": [
    "import cv2\n",
    "##import numpy as np\n",
    "\n",
    "img = cv2.imread('./data/lena.jpg', cv2.IMREAD_GRAYSCALE)\n",
    "img[100, 200] = 0  # Change pixel value (brightness, grayscale)\n",
    "print(img[100:110, 200:210]) # ROI access\n",
    "\n",
    "##for y in range(100, 400):\n",
    "##    for x in range(200, 300):\n",
    "##        img[y, x] = 0\n",
    "\n",
    "img[100:400, 200:300] = 0    # ROI access\n",
    "\n",
    "cv2.imshow('img', img)\n",
    "cv2.waitKey()\n",
    "cv2.destroyAllWindows()"
   ]
  },
  {
   "cell_type": "markdown",
   "metadata": {},
   "source": [
    "### 1.4 pixel approach 2: color image(BGR)"
   ]
  },
  {
   "cell_type": "code",
   "execution_count": 4,
   "metadata": {},
   "outputs": [
    {
     "name": "stdout",
     "output_type": "stream",
     "text": [
      "[[255   0   0]\n",
      " [116 115 207]\n",
      " [120 116 211]\n",
      " [107 103 198]\n",
      " [119 121 209]\n",
      " [116 118 206]\n",
      " [115 114 206]\n",
      " [112 111 203]\n",
      " [104 105 195]\n",
      " [110 112 200]]\n"
     ]
    }
   ],
   "source": [
    "import cv2\n",
    "##import numpy as np\n",
    "\n",
    "img = cv2.imread('./data/lena.jpg') # cv2.IMREAD_COLOR\n",
    "img[100, 200] = [255, 0, 0]  # Change color(BGR)\n",
    "print(img[100, 200:210]) # ROI access\n",
    "\n",
    "##for y in range(100, 400):\n",
    "##    for x in range(200, 300):\n",
    "##        img[y, x] = [255, 0, 0]    # make it blue\n",
    "\n",
    "img[100:400, 200:300] = [255, 0, 0]  # ROI access\n",
    "    \n",
    "cv2.imshow('img', img)\n",
    "cv2.waitKey()\n",
    "cv2.destroyAllWindows()"
   ]
  },
  {
   "cell_type": "markdown",
   "metadata": {},
   "source": [
    "### 1.5 pixel approach 3: color image (channel access)"
   ]
  },
  {
   "cell_type": "code",
   "execution_count": 5,
   "metadata": {},
   "outputs": [],
   "source": [
    "import cv2\n",
    "##import numpy as np\n",
    "\n",
    "img = cv2.imread('./data/lena.jpg') # cv2.IMREAD_COLOR\n",
    "\n",
    "##for y in range(100, 400):\n",
    "##    for x in range(200, 300):\n",
    "##        img[y, x, 0] = 255      # Change B-Channel to 255.\n",
    "        \n",
    "img[100:400, 200:300, 0] = 255  # Change B-Channel to 255.\n",
    "img[100:400, 300:400, 1] = 255  # Change G-Channel to 255.\n",
    "img[100:400, 400:500, 2] = 255  # Change R-Channel to 255.\n",
    "\n",
    "cv2.imshow('img', img)\n",
    "cv2.waitKey()\n",
    "cv2.destroyAllWindows()"
   ]
  },
  {
   "cell_type": "markdown",
   "metadata": {},
   "source": [
    "## 2. ROI (Region Of Interest)"
   ]
  },
  {
   "cell_type": "markdown",
   "metadata": {},
   "source": [
    "### 2.1 block mean image by ROI"
   ]
  },
  {
   "cell_type": "code",
   "execution_count": 6,
   "metadata": {},
   "outputs": [],
   "source": [
    "import cv2\n",
    "import numpy as np\n",
    "\n",
    "src = cv2.imread('./data/lena.jpg', cv2.IMREAD_GRAYSCALE)\n",
    "dst = np.zeros(src.shape, dtype=src.dtype)\n",
    "\n",
    "N = 32 # 4, 8, 32, 64\n",
    "height, width = src.shape    # grayscale image\n",
    "##height, width,_ = src.shape # color image\n",
    "\n",
    "h = height // N\n",
    "w = width  // N\n",
    "for i in range(N):\n",
    "    for j in range(N):\n",
    "        y = i*h\n",
    "        x = j*w       \n",
    "        roi = src[y:y+h, x:x+w]\n",
    "        dst[y:y+h, x:x+w] = cv2.mean(roi)[0]   # grayscale image\n",
    "##        dst[y:y+h, x:x+w] = cv2.mean(roi)[0:3] # color image\n",
    "        \n",
    "cv2.imshow('dst', dst)\n",
    "cv2.waitKey()\n",
    "cv2.destroyAllWindows()"
   ]
  },
  {
   "cell_type": "markdown",
   "metadata": {},
   "source": [
    "### 2.2 specify ROI region with mouse: selectROI()"
   ]
  },
  {
   "cell_type": "code",
   "execution_count": 7,
   "metadata": {},
   "outputs": [
    {
     "name": "stdout",
     "output_type": "stream",
     "text": [
      "roi = (175, 207, 169, 132)\n"
     ]
    },
    {
     "data": {
      "text/plain": [
       "'\\nSelect the ROI with the mouse click and drag, and press Space/Enter to return the selection to roi.\\nIf you press Space/Enter without selecting the ROI with the mouse, you will get an error.\\n'"
      ]
     },
     "execution_count": 7,
     "metadata": {},
     "output_type": "execute_result"
    }
   ],
   "source": [
    "import cv2\n",
    " \n",
    "src = cv2.imread('./data/lena.jpg', cv2.IMREAD_GRAYSCALE)\n",
    "roi = cv2.selectROI(src)\n",
    "print('roi =', roi)\n",
    "\n",
    "img = src[roi[1]:roi[1]+roi[3],\n",
    "               roi[0]:roi[0]+roi[2]]\n",
    "\n",
    "cv2.imshow('Img', img)\n",
    "cv2.waitKey()\n",
    "cv2.destroyAllWindows()\n",
    "\n",
    "\"\"\"\n",
    "Select the ROI with the mouse click and drag, and press Space/Enter to return the selection to roi.\n",
    "If you press Space/Enter without selecting the ROI with the mouse, you will get an error.\n",
    "\"\"\""
   ]
  },
  {
   "cell_type": "markdown",
   "metadata": {},
   "source": [
    "### 2.3 specify multiple ROI regions using mouse: selectROIs()"
   ]
  },
  {
   "cell_type": "code",
   "execution_count": 8,
   "metadata": {},
   "outputs": [
    {
     "name": "stdout",
     "output_type": "stream",
     "text": [
      "rects = [[125 137 104 126]\n",
      " [188 195 154 134]]\n"
     ]
    },
    {
     "data": {
      "text/plain": [
       "\"\\nDrag to select the box based on the center of the mouse click position,\\npress Space/Enter to repeatedly specify the ROI area, and\\npress ESC to return to 'rects' when you finish multi-area select.\\n\""
      ]
     },
     "execution_count": 8,
     "metadata": {},
     "output_type": "execute_result"
    }
   ],
   "source": [
    "import cv2\n",
    " \n",
    "src = cv2.imread('./data/lena.jpg', cv2.IMREAD_GRAYSCALE)\n",
    "rects = cv2.selectROIs('src', src, False, True)\n",
    "print('rects =', rects)\n",
    "\n",
    "for r in rects:\n",
    "    cv2.rectangle(src, (r[0], r[1]), (r[0]+r[2], r[1]+r[3]), 255)    \n",
    "##    img = src[r[1]:r[1]+r[3], r[0]:r[0]+r[2]]\n",
    "##    cv2.imshow('Img', img)\n",
    "##    cv2.waitKey()\n",
    "\n",
    "cv2.imshow('src', src)\n",
    "cv2.waitKey()    \n",
    "cv2.destroyAllWindows()\n",
    "\n",
    "\"\"\"\n",
    "Drag to select the box based on the center of the mouse click position,\n",
    "press Space/Enter to repeatedly specify the ROI area, and\n",
    "press ESC to return to 'rects' when you finish multi-area select.\n",
    "\"\"\""
   ]
  },
  {
   "cell_type": "markdown",
   "metadata": {},
   "source": [
    "## 3. Image copy"
   ]
  },
  {
   "cell_type": "markdown",
   "metadata": {},
   "source": [
    "### 3.1 image copy 1"
   ]
  },
  {
   "cell_type": "code",
   "execution_count": 9,
   "metadata": {},
   "outputs": [],
   "source": [
    "import cv2\n",
    "src = cv2.imread('./data/lena.jpg', cv2.IMREAD_GRAYSCALE)\n",
    "\n",
    "##dst = src          #reference\n",
    "dst = src.copy()     #copy\n",
    "dst[100:400, 200:300] = 0\n",
    "\n",
    "cv2.imshow('src', src)\n",
    "cv2.imshow('dst', dst)\n",
    "cv2.waitKey()    \n",
    "cv2.destroyAllWindows()"
   ]
  },
  {
   "cell_type": "markdown",
   "metadata": {},
   "source": [
    "### 3.2 image copy 2"
   ]
  },
  {
   "cell_type": "code",
   "execution_count": 10,
   "metadata": {},
   "outputs": [],
   "source": [
    "import cv2\n",
    "import numpy as np\n",
    " \n",
    "src = cv2.imread('./data/lena.jpg', cv2.IMREAD_GRAYSCALE)\n",
    "shape = src.shape[0], src.shape[1], 3\n",
    "dst = np.zeros(shape, dtype=np.uint8)\n",
    "\n",
    "dst[:,:,0] = src      # B-channel \n",
    "##dst[:,:,1] = src    # G-channel\n",
    "##dst[:,:,2] = src    # R-channel\n",
    "\n",
    "dst[100:400, 200:300, :] = [255, 255, 255]\n",
    "\n",
    "cv2.imshow('src', src)\n",
    "cv2.imshow('dst', dst)\n",
    "cv2.waitKey()    \n",
    "cv2.destroyAllWindows()"
   ]
  },
  {
   "cell_type": "markdown",
   "metadata": {},
   "source": [
    "## 4. Image channel separation and synthesis"
   ]
  },
  {
   "cell_type": "markdown",
   "metadata": {},
   "source": [
    "### 4.1 channel isolation"
   ]
  },
  {
   "cell_type": "code",
   "execution_count": 11,
   "metadata": {},
   "outputs": [
    {
     "name": "stdout",
     "output_type": "stream",
     "text": [
      "<class 'list'>\n",
      "<class 'numpy.ndarray'>\n"
     ]
    }
   ],
   "source": [
    "import cv2\n",
    "src = cv2.imread('./data/lena.jpg')\n",
    "\n",
    "dst = cv2.split(src) \n",
    "print(type(dst))\n",
    "print(type(dst[0])) # type(dst[1]), type(dst[2])\n",
    "\n",
    "cv2.imshow('blue',  dst[0])\n",
    "cv2.imshow('green', dst[1])\n",
    "cv2.imshow('red',   dst[2])\n",
    "cv2.waitKey()    \n",
    "cv2.destroyAllWindows()"
   ]
  },
  {
   "cell_type": "markdown",
   "metadata": {},
   "source": [
    "### 4.2 merge channels"
   ]
  },
  {
   "cell_type": "code",
   "execution_count": 12,
   "metadata": {},
   "outputs": [
    {
     "name": "stdout",
     "output_type": "stream",
     "text": [
      "<class 'numpy.ndarray'>\n",
      "(512, 512, 3)\n"
     ]
    }
   ],
   "source": [
    "import cv2\n",
    "src = cv2.imread('./data/lena.jpg')\n",
    "\n",
    "b, g, r = cv2.split(src)\n",
    "dst = cv2.merge([b, g, r]) # cv2.merge([r, g, b])\n",
    "\n",
    "print(type(dst))\n",
    "print(dst.shape)\n",
    "cv2.imshow('dst',  dst)\n",
    "cv2.waitKey()    \n",
    "cv2.destroyAllWindows()"
   ]
  },
  {
   "cell_type": "markdown",
   "metadata": {},
   "source": [
    "## 5. Color space conversion"
   ]
  },
  {
   "cell_type": "code",
   "execution_count": 13,
   "metadata": {},
   "outputs": [],
   "source": [
    "import cv2\n",
    "src = cv2.imread('./data/lena.jpg')\n",
    "\n",
    "gray   = cv2.cvtColor(src, cv2.COLOR_BGR2GRAY)\n",
    "yCrCb = cv2.cvtColor(src, cv2.COLOR_BGR2YCrCb)\n",
    "hsv    = cv2.cvtColor(src, cv2.COLOR_BGR2HSV)\n",
    "\n",
    "cv2.imshow('gray',  gray)\n",
    "cv2.imshow('yCrCb', yCrCb)\n",
    "cv2.imshow('hsv',   hsv)\n",
    "\n",
    "cv2.waitKey()    \n",
    "cv2.destroyAllWindows()"
   ]
  },
  {
   "cell_type": "markdown",
   "metadata": {},
   "source": [
    "## 6. Size transformation and rotation of images"
   ]
  },
  {
   "cell_type": "markdown",
   "metadata": {},
   "source": [
    "### 6.1 convert image size"
   ]
  },
  {
   "cell_type": "code",
   "execution_count": 14,
   "metadata": {},
   "outputs": [],
   "source": [
    "import cv2\n",
    "import numpy as np\n",
    "src = cv2.imread('./data/lena.jpg', cv2.IMREAD_GRAYSCALE)\n",
    "\n",
    "dst = cv2.resize(src, dsize=(320, 240))\n",
    "dst2 = cv2.resize(src, dsize=(0,0), fx=1.5, fy=1.2)\n",
    "\n",
    "cv2.imshow('dst', dst)\n",
    "cv2.imshow('dst2', dst2)\n",
    "cv2.waitKey()    \n",
    "cv2.destroyAllWindows()"
   ]
  },
  {
   "cell_type": "markdown",
   "metadata": {},
   "source": [
    "### 6.2 cv2.rotate() image rotation"
   ]
  },
  {
   "cell_type": "code",
   "execution_count": 15,
   "metadata": {},
   "outputs": [],
   "source": [
    "import cv2\n",
    "src = cv2.imread('./data/lena.jpg')\n",
    "\n",
    "dst1 = cv2.rotate(src, cv2.ROTATE_90_CLOCKWISE)\n",
    "dst2 = cv2.rotate(src, cv2.ROTATE_90_COUNTERCLOCKWISE)\n",
    "\n",
    "cv2.imshow('dst1',  dst1)\n",
    "cv2.imshow('dst2',  dst2)\n",
    "cv2.waitKey()    \n",
    "cv2.destroyAllWindows()"
   ]
  },
  {
   "cell_type": "markdown",
   "metadata": {},
   "source": [
    "### 6.3 image affine transformation(zoom, rotate)"
   ]
  },
  {
   "cell_type": "code",
   "execution_count": 16,
   "metadata": {},
   "outputs": [],
   "source": [
    "import cv2\n",
    "src = cv2.imread('./data/lena.jpg')\n",
    "\n",
    "rows, cols, channels = src.shape\n",
    "M1 = cv2.getRotationMatrix2D( (rows/2, cols/2),  45, 0.5 )\n",
    "M2 = cv2.getRotationMatrix2D( (rows/2, cols/2), -45, 1.0 )\n",
    "\n",
    "dst1 = cv2.warpAffine( src, M1, (rows, cols))\n",
    "dst2 = cv2.warpAffine( src, M2, (rows, cols))\n",
    "\n",
    "cv2.imshow('dst1',  dst1)\n",
    "cv2.imshow('dst2',  dst2)\n",
    "cv2.waitKey()    \n",
    "cv2.destroyAllWindows()"
   ]
  },
  {
   "cell_type": "markdown",
   "metadata": {},
   "source": [
    "## 7. Math operations, bit operations, comparison range, and numerical functions"
   ]
  },
  {
   "cell_type": "markdown",
   "metadata": {},
   "source": [
    "### 7.1 image operation 1"
   ]
  },
  {
   "cell_type": "code",
   "execution_count": 17,
   "metadata": {},
   "outputs": [],
   "source": [
    "import cv2\n",
    "import numpy as np\n",
    "\n",
    "src1 = cv2.imread('./data/lena.jpg', cv2.IMREAD_GRAYSCALE)\n",
    "src2 = np.zeros(shape=(512,512), dtype=np.uint8) + 100\n",
    "\n",
    "dst1 = src1 + src2\n",
    "dst2 = cv2.add(src1, src2)\n",
    "#dst2 = cv2.add(src1, src2, dtype = cv2.CV_8U)\n",
    "\n",
    "cv2.imshow('dst1',  dst1)\n",
    "cv2.imshow('dst2',  dst2)\n",
    "cv2.waitKey()    \n",
    "cv2.destroyAllWindows()"
   ]
  },
  {
   "cell_type": "markdown",
   "metadata": {},
   "source": [
    "### 7.2 image operation 2: bit operation"
   ]
  },
  {
   "cell_type": "code",
   "execution_count": 18,
   "metadata": {},
   "outputs": [],
   "source": [
    "# From OpenCV-Python Tutorials\n",
    "import cv2\n",
    "import numpy as np\n",
    "\n",
    "src1 = cv2.imread('./data/lena.jpg')\n",
    "src2 = cv2.imread('./data/opencv_logo.png')\n",
    "cv2.imshow('src2',  src2)\n",
    "\n",
    "#1\n",
    "rows,cols,channels = src2.shape\n",
    "roi = src1[0:rows, 0:cols]\n",
    "\n",
    "#2\n",
    "gray = cv2.cvtColor(src2,cv2.COLOR_BGR2GRAY)\n",
    "ret, mask = cv2.threshold(gray, 160, 255, cv2.THRESH_BINARY)\n",
    "mask_inv = cv2.bitwise_not(mask)\n",
    "cv2.imshow('mask',  mask)\n",
    "cv2.imshow('mask_inv',  mask_inv)\n",
    "\n",
    "#3\n",
    "src1_bg = cv2.bitwise_and(roi, roi, mask = mask)\n",
    "cv2.imshow('src1_bg',  src1_bg)\n",
    "\n",
    "#4\n",
    "src2_fg = cv2.bitwise_and(src2, src2, mask = mask_inv)\n",
    "cv2.imshow('src2_fg',  src2_fg)\n",
    "\n",
    "#5\n",
    "##dst = cv2.add(src1_bg, src2_fg)\n",
    "dst = cv2.bitwise_or(src1_bg, src2_fg)\n",
    "cv2.imshow('dst',  dst)\n",
    "\n",
    "#6\n",
    "src1[0:rows, 0:cols] = dst\n",
    "\n",
    "cv2.imshow('result',src1)\n",
    "cv2.waitKey(0)\n",
    "cv2.destroyAllWindows()"
   ]
  },
  {
   "cell_type": "markdown",
   "metadata": {},
   "source": [
    "### 7.3 inverted image"
   ]
  },
  {
   "cell_type": "code",
   "execution_count": 19,
   "metadata": {},
   "outputs": [
    {
     "name": "stdout",
     "output_type": "stream",
     "text": [
      "n =  0\n"
     ]
    }
   ],
   "source": [
    "import cv2\n",
    "import numpy as np\n",
    "\n",
    "src1 = cv2.imread('./data/lena.jpg', cv2.IMREAD_GRAYSCALE)\n",
    "src2 = np.zeros(shape=(512,512), dtype=np.uint8)+255\n",
    "\n",
    "dst1 = 255 - src1\n",
    "dst2 = cv2.subtract(src2, src1)\n",
    "dst3 = cv2.compare(dst1, dst2, cv2.CMP_NE) # cv2.CMP_EQ\n",
    "n    = cv2.countNonZero(dst3)\n",
    "print('n = ', n) # dst1,2 are same result\n",
    "\n",
    "cv2.imshow('dst1',  dst1)\n",
    "cv2.imshow('dst2',  dst2)\n",
    "cv2.waitKey()    \n",
    "cv2.destroyAllWindows()"
   ]
  },
  {
   "cell_type": "markdown",
   "metadata": {},
   "source": [
    "## 8. Math and Statistics functions"
   ]
  },
  {
   "cell_type": "markdown",
   "metadata": {},
   "source": [
    "### 8.1 normalize images using cv2.normalize()"
   ]
  },
  {
   "cell_type": "code",
   "execution_count": 20,
   "metadata": {},
   "outputs": [
    {
     "name": "stdout",
     "output_type": "stream",
     "text": [
      "src: 18.0 248.0 (265, 198) (116, 273)\n",
      "dst: 100.0 200.0 (265, 198) (116, 273)\n"
     ]
    }
   ],
   "source": [
    "import cv2\n",
    "import numpy as np\n",
    "\n",
    "src = cv2.imread('./data/lena.jpg', cv2.IMREAD_GRAYSCALE)\n",
    "\n",
    "minVal, maxVal, minLoc, maxLoc = cv2.minMaxLoc(src)\n",
    "print('src:', minVal, maxVal, minLoc, maxLoc)\n",
    "\n",
    "dst = cv2.normalize(src, None, 100, 200, cv2.NORM_MINMAX)\n",
    "minVal, maxVal, minLoc, maxLoc = cv2.minMaxLoc(dst)\n",
    "print('dst:', minVal, maxVal, minLoc, maxLoc)\n",
    "\n",
    "cv2.imshow('dst',  dst)\n",
    "cv2.waitKey()    \n",
    "cv2.destroyAllWindows()"
   ]
  },
  {
   "cell_type": "markdown",
   "metadata": {},
   "source": [
    "### 8.2 cv2.randu(): 2-dimensional uniform distribution random coordinates"
   ]
  },
  {
   "cell_type": "code",
   "execution_count": 21,
   "metadata": {},
   "outputs": [],
   "source": [
    "import cv2\n",
    "import numpy as np\n",
    "import time\n",
    "\n",
    "dst = np.full((512,512,3), (255, 255, 255), dtype= np.uint8)\n",
    "nPoints = 100\n",
    "pts = np.zeros((1, nPoints, 2), dtype=np.uint16)\n",
    "\n",
    "cv2.setRNGSeed(int(time.time()))\n",
    "cv2.randu(pts, (0, 0), (512, 512))\n",
    "            \n",
    "# draw points\n",
    "for k in range(nPoints):\n",
    "    x, y = pts[0, k][:] # pts[0, k, :]\n",
    "    cv2.circle(dst,(x,y),radius=5,color=(0,0,255),thickness=-1)\n",
    "    \n",
    "cv2.imshow('dst',  dst)\n",
    "cv2.waitKey()    \n",
    "cv2.destroyAllWindows()"
   ]
  },
  {
   "cell_type": "markdown",
   "metadata": {},
   "source": [
    "### 8.3 cv2.randn(): 2-dimensional normal distribution random coordinates"
   ]
  },
  {
   "cell_type": "code",
   "execution_count": 22,
   "metadata": {},
   "outputs": [],
   "source": [
    "import cv2\n",
    "import numpy as np\n",
    "import time\n",
    "\n",
    "dst = np.full((512,512,3), (255, 255, 255), dtype= np.uint8)\n",
    "nPoints = 100\n",
    "pts = np.zeros((1, nPoints, 2), dtype=np.uint16)\n",
    "\n",
    "cv2.setRNGSeed(int(time.time()))\n",
    "cv2.randn(pts, mean=(256, 256), stddev=(50, 50))\n",
    "            \n",
    "# draw points\n",
    "for k in range(nPoints):\n",
    "    x, y = pts[0][k, :] # pts[0, k, :]\n",
    "    cv2.circle(dst,(x,y),radius=5,color=(0,0,255),thickness=-1)\n",
    "    \n",
    "cv2.imshow('dst', dst)                \n",
    "cv2.waitKey()    \n",
    "cv2.destroyAllWindows()"
   ]
  },
  {
   "cell_type": "markdown",
   "metadata": {},
   "source": [
    "### 8.4 statistical distance calculation using cv2.Mahalanobis()"
   ]
  },
  {
   "cell_type": "code",
   "execution_count": 23,
   "metadata": {},
   "outputs": [
    {
     "name": "stdout",
     "output_type": "stream",
     "text": [
      "mean= [[12.5   1.25]]\n",
      "cov= [[73750.  34875. ]\n",
      " [34875.  26287.5]]\n",
      "icov= [[ 3.63872307e-05 -4.82740722e-05]\n",
      " [-4.82740722e-05  1.02084955e-04]]\n",
      "dist =  0.5051854992128457\n"
     ]
    }
   ],
   "source": [
    "import cv2\n",
    "import numpy as np\n",
    "\n",
    "X = np.array([[0, 0,  0,100,100,150, -100,-150],\n",
    "              [0,50,-50,  0, 30,100,  -20,-100]], dtype=np.float64)\n",
    "X = X.transpose() # X = X.T\n",
    "\n",
    "cov, mean = cv2.calcCovarMatrix(X, mean=None, \n",
    "                               flags = cv2.COVAR_NORMAL + cv2.COVAR_ROWS)\n",
    "print('mean=', mean)\n",
    "print('cov=', cov)\n",
    "\n",
    "ret, icov = cv2.invert(cov)\n",
    "print('icov=',icov)\n",
    "\n",
    "v1 = np.array([[0],[0]] , dtype=np.float64)\n",
    "v2 = np.array([[0],[50]], dtype=np.float64)\n",
    "\n",
    "dist = cv2.Mahalanobis(v1, v2, icov)\n",
    "print('dist = ', dist)\n",
    "                \n",
    "cv2.waitKey()    \n",
    "cv2.destroyAllWindows()"
   ]
  },
  {
   "cell_type": "markdown",
   "metadata": {},
   "source": [
    "### 8.5 cv2.Mahalanobis(): statistical distance calculation, Eigenvalues and eigenvectors of covariance matrix"
   ]
  },
  {
   "cell_type": "code",
   "execution_count": 24,
   "metadata": {},
   "outputs": [
    {
     "name": "stdout",
     "output_type": "stream",
     "text": [
      "eVals= [[92202.13359547]\n",
      " [ 7835.36640453]]\n",
      "eVects= [[ 0.88390424  0.46766793]\n",
      " [-0.46766793  0.88390424]]\n"
     ]
    }
   ],
   "source": [
    "import cv2\n",
    "import numpy as np\n",
    " \n",
    "X = np.array([[0, 0,  0,100,100,150, -100,-150],\n",
    "                 [0,50,-50,  0, 30,100,  -20,-100]], dtype=np.float64)\n",
    "X = X.transpose() # X = X.T\n",
    "\n",
    "cov, mean = cv2.calcCovarMatrix(X, mean=None,\n",
    "                                    flags=cv2.COVAR_NORMAL+cv2.COVAR_ROWS)\n",
    "ret, icov = cv2.invert(cov)\n",
    "\n",
    "dst = np.full((512,512,3), (255, 255, 255), dtype= np.uint8)\n",
    "rows, cols, channel = dst.shape\n",
    "centerX = cols//2\n",
    "centerY = rows//2\n",
    "\n",
    "v2 = np.zeros((2,1), dtype=np.float64)\n",
    "\n",
    "FLIP_Y = lambda y: rows - 1 - y\n",
    "\n",
    "##print(mean, v2, icov)\n",
    "\n",
    "# draw Mahalanobis distance\n",
    "for y in range(rows):\n",
    "    for x in range(cols):\n",
    "        v2[0,0] = x - centerX\n",
    "        v2[1,0] = FLIP_Y(y) - centerY # flip y-axis\n",
    "        dist = cv2.Mahalanobis(mean.T, v2, icov) # mean -> mean.T\n",
    "        if dist < 0.1:\n",
    "            dst[y, x] = [50, 50, 50]\n",
    "        elif dist < 0.3:\n",
    "            dst[y, x] = [100, 100, 100]\n",
    "        elif dist < 0.8:\n",
    "            dst[y, x] = [200, 200, 200]\n",
    "        else:\n",
    "            dst[y, x] = [250, 250, 250]\n",
    "            \n",
    "for k in range(X.shape[0]):\n",
    "    x, y = X[k,:]\n",
    "    cx = int(x+centerX)\n",
    "    cy = int(y+centerY)\n",
    "    cy = FLIP_Y(cy)\n",
    "    cv2.circle(dst,(cx,cy),radius=5,color=(0,0,255),thickness=-1)\n",
    "    \n",
    "# draw X, Y-axes\n",
    "cv2.line(dst, (0, 256), (cols-1, 256), (0, 0, 0))\n",
    "cv2.line(dst, (256,0), (256,rows), (0, 0, 0))\n",
    "\n",
    "# calculate eigen vectors\n",
    "ret, eVals, eVects = cv2.eigen(cov)\n",
    "print('eVals=',  eVals)\n",
    "print('eVects=', eVects)\n",
    "\n",
    "def ptsEigenVector(eVal, eVect):\n",
    "##  global mX, centerX, centerY\n",
    "    scale = np.sqrt(eVal)\n",
    "    x1 = scale*eVect[0]\n",
    "    y1 = scale*eVect[1]\n",
    "    x2, y2 = -x1, -y1  # symmetry\n",
    "\n",
    "    x1 += mean[0,0] + centerX\n",
    "    y1 += mean[0,1] + centerY\n",
    "    x2 += mean[0,0] + centerX\n",
    "    y2 += mean[0,1] + centerY\n",
    "    y1 = FLIP_Y(y1)\n",
    "    y2 = FLIP_Y(y2)\n",
    "    return x1, y1, x2, y2\n",
    " \n",
    "# draw eVects[0]\n",
    "x1, y1, x2, y2 = ptsEigenVector(eVals[0], eVects[0])\n",
    "cv2.line(dst, (x1, y1), (x2, y2), (255, 0, 0), 2)\n",
    "\n",
    "# draw eVects[1]\n",
    "x1, y1, x2, y2 = ptsEigenVector(eVals[1], eVects[1])\n",
    "cv2.line(dst, (x1, y1), (x2, y2), (255, 0, 0), 2)\n",
    "\n",
    "cv2.imshow('dst', dst)               \n",
    "cv2.waitKey()    \n",
    "cv2.destroyAllWindows()"
   ]
  },
  {
   "cell_type": "markdown",
   "metadata": {},
   "source": [
    "### 8.6 PCA projection, reverse projection"
   ]
  },
  {
   "cell_type": "code",
   "execution_count": 25,
   "metadata": {},
   "outputs": [
    {
     "name": "stdout",
     "output_type": "stream",
     "text": [
      "mean =  [[12.5   1.25]]\n",
      "eVects =  [[ 0.88390424  0.46766793]\n",
      " [-0.46766793  0.88390424]]\n",
      "Y =  [[ -11.63338792    4.74096885]\n",
      " [  11.75000868   48.93618085]\n",
      " [ -35.01678451  -39.45424315]\n",
      " [  76.75703609  -42.02582434]\n",
      " [  90.78707404  -15.50869713]\n",
      " [ 167.71904127   22.98120308]\n",
      " [-109.37717055   33.82967723]\n",
      " [-190.9858171   -13.49926538]]\n",
      "X2 =  [[ 1.77635684e-15  0.00000000e+00]\n",
      " [ 3.55271368e-15  5.00000000e+01]\n",
      " [ 0.00000000e+00 -5.00000000e+01]\n",
      " [ 1.00000000e+02 -7.10542736e-15]\n",
      " [ 1.00000000e+02  3.00000000e+01]\n",
      " [ 1.50000000e+02  1.00000000e+02]\n",
      " [-1.00000000e+02 -2.00000000e+01]\n",
      " [-1.50000000e+02 -1.00000000e+02]]\n",
      "True\n"
     ]
    }
   ],
   "source": [
    "import cv2\n",
    "import numpy as np\n",
    "\n",
    "X = np.array([[0, 0,  0,100,100,150, -100,-150],\n",
    "                 [0,50,-50,  0, 30,100,  -20,-100]], dtype=np.float64)\n",
    "X = X.transpose() # X = X.T\n",
    "\n",
    "##mean = cv2.reduce(X, 0, cv2.REDUCE_AVG)\n",
    "##print('mean = ', mean)\n",
    "\n",
    "mean, eVects = cv2.PCACompute(X, mean=None)\n",
    "print('mean = ', mean)\n",
    "print('eVects = ', eVects)\n",
    "\n",
    "Y =cv2.PCAProject(X, mean, eVects)\n",
    "print('Y = ', Y)\n",
    "\n",
    "X2 =cv2.PCABackProject(Y, mean, eVects)\n",
    "print('X2 = ', X2)\n",
    "print(np.allclose(X, X2))\n",
    "cv2.waitKey()    \n",
    "cv2.destroyAllWindows()"
   ]
  },
  {
   "cell_type": "markdown",
   "metadata": {},
   "source": [
    "### 8.7 PCA projection on 3-channel color image"
   ]
  },
  {
   "cell_type": "code",
   "execution_count": 26,
   "metadata": {},
   "outputs": [
    {
     "name": "stdout",
     "output_type": "stream",
     "text": [
      "X.shape= (262144, 3)\n",
      "mean =  [[105.39899  99.5627  179.7303 ]]\n",
      "eVects =  [[ 0.3958077   0.68919426  0.6069166 ]\n",
      " [-0.6352216  -0.27180612  0.72292113]\n",
      " [ 0.6631967  -0.6716642   0.3302081 ]]\n",
      "Y.shape= (512, 512, 3)\n"
     ]
    }
   ],
   "source": [
    "import cv2\n",
    "import numpy as np\n",
    "\n",
    "src = cv2.imread('./data/lena.jpg') \n",
    "b, g, r = cv2.split(src) \n",
    "cv2.imshow('b', b)\n",
    "cv2.imshow('g', g)\n",
    "cv2.imshow('r', r)\n",
    "\n",
    "X = src.reshape(-1, 3)\n",
    "print('X.shape=', X.shape)\n",
    "\n",
    "mean, eVects = cv2.PCACompute(X, mean=None)\n",
    "print('mean = ', mean)\n",
    "print('eVects = ', eVects)\n",
    "\n",
    "Y =cv2.PCAProject(X, mean, eVects)\n",
    "Y = Y.reshape(src.shape)\n",
    "print('Y.shape=', Y.shape)\n",
    "\n",
    "eImage = cv2.split(Y)\n",
    "for i in range(3):\n",
    "    cv2.normalize(eImage[i], eImage[i], 0, 255, cv2.NORM_MINMAX)\n",
    "    eImage[i]=eImage[i].astype(np.uint8)\n",
    "    \n",
    "cv2.imshow('eImage[0]', eImage[0])\n",
    "cv2.imshow('eImage[1]', eImage[1])\n",
    "cv2.imshow('eImage[2]', eImage[2])\n",
    "cv2.waitKey()    \n",
    "cv2.destroyAllWindows()"
   ]
  },
  {
   "cell_type": "code",
   "execution_count": null,
   "metadata": {},
   "outputs": [],
   "source": []
  }
 ],
 "metadata": {
  "kernelspec": {
   "display_name": "Python 3",
   "language": "python",
   "name": "python3"
  },
  "language_info": {
   "codemirror_mode": {
    "name": "ipython",
    "version": 3
   },
   "file_extension": ".py",
   "mimetype": "text/x-python",
   "name": "python",
   "nbconvert_exporter": "python",
   "pygments_lexer": "ipython3",
   "version": "3.6.7"
  }
 },
 "nbformat": 4,
 "nbformat_minor": 2
}
