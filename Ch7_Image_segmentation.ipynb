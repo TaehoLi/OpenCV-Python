{
 "cells": [
  {
   "cell_type": "markdown",
   "metadata": {},
   "source": [
    "## 1. Canny edge detection"
   ]
  },
  {
   "cell_type": "markdown",
   "metadata": {},
   "source": [
    "### 1.1 edge detection: cv2.Canny()"
   ]
  },
  {
   "cell_type": "code",
   "execution_count": 1,
   "metadata": {},
   "outputs": [],
   "source": [
    "import cv2\n",
    "import numpy as np\n",
    "\n",
    "src = cv2.imread('./data/lena.jpg', cv2.IMREAD_GRAYSCALE)\n",
    "\n",
    "edges1 = cv2.Canny(src, 50, 100)\n",
    "edges2 = cv2.Canny(src, 50, 200)\n",
    " \n",
    "cv2.imshow('edges1',  edges1)\n",
    "cv2.imshow('edges2',  edges2)\n",
    "cv2.waitKey()\n",
    "cv2.destroyAllWindows()"
   ]
  },
  {
   "cell_type": "markdown",
   "metadata": {},
   "source": [
    "## 2. straight line and circle detection by Hough transformation"
   ]
  },
  {
   "cell_type": "markdown",
   "metadata": {},
   "source": [
    "### 2.1 line detection: cv2.HoughLines()"
   ]
  },
  {
   "cell_type": "code",
   "execution_count": 2,
   "metadata": {},
   "outputs": [
    {
     "name": "stdout",
     "output_type": "stream",
     "text": [
      "lines.shape= (4, 1, 2)\n"
     ]
    }
   ],
   "source": [
    "import cv2\n",
    "import numpy as np\n",
    "\n",
    "src = cv2.imread('./data/rect.jpg')\n",
    "gray = cv2.cvtColor(src,cv2.COLOR_BGR2GRAY)\n",
    "edges = cv2.Canny(gray, 50, 100)\n",
    "lines = cv2.HoughLines(edges, rho=1, theta=np.pi/180.0, threshold=100)\n",
    "print('lines.shape=', lines.shape)\n",
    "\n",
    "for line in lines:\n",
    "    rho, theta   = line[0]\n",
    "    c = np.cos(theta)\n",
    "    s = np.sin(theta)\n",
    "    x0 = c*rho\n",
    "    y0 = s*rho\n",
    "    x1 = int(x0 + 1000*(-s))\n",
    "    y1 = int(y0 + 1000*(c))\n",
    "    x2 = int(x0 - 1000*(-s))\n",
    "    y2 = int(y0 - 1000*(c))\n",
    "    cv2.line(src, (x1,y1), (x2,y2), (0,0,255), 2)\n",
    "    \n",
    "cv2.imshow('edges',  edges)\n",
    "cv2.imshow('src',  src)\n",
    "cv2.waitKey()\n",
    "cv2.destroyAllWindows()"
   ]
  },
  {
   "cell_type": "markdown",
   "metadata": {},
   "source": [
    "### 2.2 segment detection: cv2.HoughLinesP()"
   ]
  },
  {
   "cell_type": "code",
   "execution_count": 3,
   "metadata": {},
   "outputs": [
    {
     "name": "stdout",
     "output_type": "stream",
     "text": [
      "lines.shape= (4, 1, 4)\n"
     ]
    }
   ],
   "source": [
    "import cv2\n",
    "import numpy as np\n",
    "\n",
    "src = cv2.imread('./data/rect.jpg')\n",
    "gray = cv2.cvtColor(src,cv2.COLOR_BGR2GRAY)\n",
    "edges = cv2.Canny(gray, 50, 100)\n",
    "lines = cv2.HoughLinesP(edges, rho=1, theta=np.pi/180.0, threshold=100)\n",
    "print('lines.shape=', lines.shape)\n",
    "\n",
    "for line in lines:\n",
    "    x1, y1, x2, y2   = line[0]\n",
    "    cv2.line(src,(x1,y1),(x2,y2),(0,0,255),2)\n",
    "    \n",
    "cv2.imshow('edges',  edges)\n",
    "cv2.imshow('src',  src)\n",
    "cv2.waitKey()\n",
    "cv2.destroyAllWindows()"
   ]
  },
  {
   "cell_type": "markdown",
   "metadata": {},
   "source": [
    "### 2.3 circle detection: cv2.HoughCircles()"
   ]
  },
  {
   "cell_type": "code",
   "execution_count": 4,
   "metadata": {},
   "outputs": [
    {
     "name": "stdout",
     "output_type": "stream",
     "text": [
      "circles1.shape= (1, 3, 3)\n",
      "circles2.shape= (1, 6, 3)\n"
     ]
    }
   ],
   "source": [
    "import cv2\n",
    "import numpy as np\n",
    "\n",
    "#1\n",
    "src1 = cv2.imread('./data/circles.jpg')\n",
    "gray1 = cv2.cvtColor(src1,cv2.COLOR_BGR2GRAY)\n",
    "circles1 = cv2.HoughCircles(gray1, method = cv2.HOUGH_GRADIENT,\n",
    "            dp=1, minDist=50, param2=15)\n",
    "\n",
    "print('circles1.shape=', circles1.shape)\n",
    "for circle in circles1[0,:]:    \n",
    "    cx, cy, r  = circle\n",
    "    cv2.circle(src1, (cx, cy), r, (0,0,255), 2)\n",
    "cv2.imshow('src1',  src1)\n",
    "\n",
    "#2\n",
    "src2 = cv2.imread('./data/circles2.jpg')\n",
    "gray2 = cv2.cvtColor(src2,cv2.COLOR_BGR2GRAY)\n",
    "circles2 = cv2.HoughCircles(gray2, method = cv2.HOUGH_GRADIENT,\n",
    "          dp=1, minDist=50, param2=15, minRadius=30, maxRadius=100)\n",
    "\n",
    "print('circles2.shape=', circles2.shape)\n",
    "for circle in circles2[0,:]:    \n",
    "    cx, cy, r  = circle\n",
    "    cv2.circle(src2, (cx, cy), r, (0,0,255), 2) \n",
    "cv2.imshow('src2',  src2)\n",
    "cv2.waitKey()\n",
    "cv2.destroyAllWindows()"
   ]
  },
  {
   "cell_type": "markdown",
   "metadata": {},
   "source": [
    "## 3. split regions by color range"
   ]
  },
  {
   "cell_type": "markdown",
   "metadata": {},
   "source": [
    "### 3.1 color zone detection: cv2.inRange()"
   ]
  },
  {
   "cell_type": "code",
   "execution_count": 5,
   "metadata": {},
   "outputs": [],
   "source": [
    "import cv2\n",
    "import numpy as np\n",
    "\n",
    "#1\n",
    "src1 = cv2.imread('./data/hand.jpg')\n",
    "hsv1 = cv2.cvtColor(src1, cv2.COLOR_BGR2HSV)\n",
    "lowerb1 = (0, 40, 0)\n",
    "upperb1 = (20, 180, 255)\n",
    "dst1 = cv2.inRange(hsv1, lowerb1, upperb1)\n",
    "\n",
    "#2\n",
    "src2 = cv2.imread('./data/flower.jpg')\n",
    "hsv2 = cv2.cvtColor(src2,cv2.COLOR_BGR2HSV)\n",
    "lowerb2 = (150, 100, 100)\n",
    "upperb2 = (180, 255, 255)\n",
    "dst2 = cv2.inRange(hsv2, lowerb2, upperb2)\n",
    "\n",
    "#3\n",
    "cv2.imshow('src1',  src1)\n",
    "cv2.imshow('dst1',  dst1)\n",
    "cv2.imshow('src2',  src2)\n",
    "cv2.imshow('dst2',  dst2)\n",
    "cv2.waitKey()\n",
    "cv2.destroyAllWindows()"
   ]
  },
  {
   "cell_type": "markdown",
   "metadata": {},
   "source": [
    "## 4. contour detection and drawing"
   ]
  },
  {
   "cell_type": "markdown",
   "metadata": {},
   "source": [
    "### 4.1 mode = cv2.RETR_EXTERNAL"
   ]
  },
  {
   "cell_type": "code",
   "execution_count": 6,
   "metadata": {},
   "outputs": [
    {
     "name": "stdout",
     "output_type": "stream",
     "text": [
      "type(contours)= <class 'list'>\n",
      "type(contours[0])= <class 'numpy.ndarray'>\n",
      "len(contours)= 1\n",
      "contours[0].shape= (4, 1, 2)\n",
      "contours[0]= [[[ 50 100]]\n",
      "\n",
      " [[ 50 400]]\n",
      "\n",
      " [[450 400]]\n",
      "\n",
      " [[450 100]]]\n"
     ]
    }
   ],
   "source": [
    "import cv2\n",
    "import numpy as np\n",
    "\n",
    "#1\n",
    "src = np.zeros(shape=(512,512,3), dtype=np.uint8)\n",
    "cv2.rectangle(src, (50, 100), (450, 400), (255, 255, 255), -1)\n",
    "cv2.rectangle(src, (100, 150), (400, 350), (0, 0, 0), -1)\n",
    "cv2.rectangle(src, (200, 200), (300, 300), (255, 255, 255), -1)\n",
    "gray = cv2.cvtColor(src, cv2.COLOR_BGR2GRAY)\n",
    "\n",
    "#2\n",
    "mode = cv2.RETR_EXTERNAL\n",
    "method = cv2.CHAIN_APPROX_SIMPLE\n",
    "##method =cv2.CHAIN_APPROX_NONE\n",
    "image, contours, hierarchy = cv2.findContours(gray, mode, method)\n",
    "print('type(contours)=', type(contours))\n",
    "print('type(contours[0])=', type(contours[0]))\n",
    "print('len(contours)=', len(contours))\n",
    "print('contours[0].shape=', contours[0].shape)\n",
    "print('contours[0]=', contours[0])\n",
    "\n",
    "#3\n",
    "cv2.drawContours(src, contours, -1, (255,0,0), 3) # all contours\n",
    "\n",
    "#4\n",
    "for pt in contours[0][:]: # contour coordinates\n",
    "    cv2.circle(src, (pt[0][0], pt[0][1]), 5, (0,0,255), -1)\n",
    "\n",
    "cv2.imshow('src',  src)\n",
    "cv2.waitKey()\n",
    "cv2.destroyAllWindows()"
   ]
  },
  {
   "cell_type": "markdown",
   "metadata": {},
   "source": [
    "### 4.2 mode = cv2.RETR_LIST"
   ]
  },
  {
   "cell_type": "code",
   "execution_count": 7,
   "metadata": {},
   "outputs": [
    {
     "name": "stdout",
     "output_type": "stream",
     "text": [
      "len(contours)= 3\n",
      "contours[0].shape= (4, 1, 2)\n",
      "contours= [array([[[200, 200]],\n",
      "\n",
      "       [[200, 300]],\n",
      "\n",
      "       [[300, 300]],\n",
      "\n",
      "       [[300, 200]]], dtype=int32), array([[[ 99, 150]],\n",
      "\n",
      "       [[100, 149]],\n",
      "\n",
      "       [[400, 149]],\n",
      "\n",
      "       [[401, 150]],\n",
      "\n",
      "       [[401, 350]],\n",
      "\n",
      "       [[400, 351]],\n",
      "\n",
      "       [[100, 351]],\n",
      "\n",
      "       [[ 99, 350]]], dtype=int32), array([[[ 50, 100]],\n",
      "\n",
      "       [[ 50, 400]],\n",
      "\n",
      "       [[450, 400]],\n",
      "\n",
      "       [[450, 100]]], dtype=int32)]\n"
     ]
    }
   ],
   "source": [
    "import cv2\n",
    "import numpy as np\n",
    "\n",
    "#1\n",
    "src = np.zeros(shape=(512,512,3), dtype=np.uint8)\n",
    "cv2.rectangle(src, (50, 100), (450, 400), (255, 255, 255), -1)\n",
    "cv2.rectangle(src, (100, 150), (400, 350), (0, 0, 0), -1)\n",
    "cv2.rectangle(src, (200, 200), (300, 300), (255, 255, 255), -1)\n",
    "gray = cv2.cvtColor(src, cv2.COLOR_BGR2GRAY)\n",
    "\n",
    "#2\n",
    "mode = cv2.RETR_LIST\n",
    "method = cv2.CHAIN_APPROX_SIMPLE;\n",
    "image, contours, hierarchy = cv2.findContours(gray, mode, method)\n",
    "##cv2.drawContours(src, contours, -1, (255,0,0), 3) # all contours\n",
    "\n",
    "print('len(contours)=', len(contours))\n",
    "print('contours[0].shape=', contours[0].shape)\n",
    "print('contours=', contours)\n",
    "\n",
    "#3\n",
    "for cnt in contours:\n",
    "    cv2.drawContours(src, [cnt], 0, (255,0,0), 3)\n",
    "    \n",
    "    for pt in cnt: # contour coordinates\n",
    "        cv2.circle(src, (pt[0][0], pt[0][1]), 5, (0,0,255), -1)\n",
    "\n",
    "cv2.imshow('src',  src)\n",
    "cv2.waitKey()\n",
    "cv2.destroyAllWindows()"
   ]
  },
  {
   "cell_type": "markdown",
   "metadata": {},
   "source": [
    "## 5. cv2.floodFill(), cv2.inpaint(), cv2.distanceTransform(), cv2.watershed()"
   ]
  },
  {
   "cell_type": "markdown",
   "metadata": {},
   "source": [
    "### 5.1 cv2.floodFill()"
   ]
  },
  {
   "cell_type": "code",
   "execution_count": 8,
   "metadata": {},
   "outputs": [
    {
     "name": "stdout",
     "output_type": "stream",
     "text": [
      "rect= (202, 202, 197, 197)\n"
     ]
    }
   ],
   "source": [
    "import cv2\n",
    "import numpy as np\n",
    "\n",
    "#1\n",
    "src = np.full((512,512,3), (255, 255, 255), dtype= np.uint8)\n",
    "cv2.rectangle(src, (50, 50), (200, 200), (0, 0, 255), 2)\n",
    "cv2.circle(src, (300, 300), 100, (0,0,255), 2)\n",
    "\n",
    "#2\n",
    "dst = src.copy()\n",
    "cv2.floodFill(dst, mask=None, seedPoint=(100,100), newVal=(255,0,0))\n",
    "\n",
    "#3\n",
    "retval, dst2, mask, rect=cv2.floodFill(dst, mask=None,\n",
    "                          seedPoint=(300,300), newVal=(0,255,0))\n",
    "print('rect=', rect)\n",
    "x, y, width, height = rect\n",
    "cv2.rectangle(dst2, (x,y), (x+width, y+height), (255, 0, 0), 2)\n",
    "\n",
    "cv2.imshow('src',  src)\n",
    "cv2.imshow('dst',  dst)\n",
    "cv2.waitKey()\n",
    "cv2.destroyAllWindows()"
   ]
  },
  {
   "cell_type": "markdown",
   "metadata": {},
   "source": [
    "### 5.2 cv2.distanceTransform()"
   ]
  },
  {
   "cell_type": "code",
   "execution_count": 9,
   "metadata": {},
   "outputs": [
    {
     "name": "stdout",
     "output_type": "stream",
     "text": [
      "src: 0.0 51.0 (0, 0) (100, 250)\n",
      "src: 0.0 8.0 (0, 0) (52, 200)\n"
     ]
    }
   ],
   "source": [
    "import cv2\n",
    "import numpy as np\n",
    "\n",
    "#1\n",
    "src = np.zeros(shape=(512,512), dtype=np.uint8)\n",
    "cv2.rectangle(src, (50, 200), (450, 300), (255, 255, 255), -1)\n",
    "\n",
    "#2\n",
    "dist  = cv2.distanceTransform(src, distanceType=cv2.DIST_L1, maskSize=3)\n",
    "minVal, maxVal, minLoc, maxLoc = cv2.minMaxLoc(dist)\n",
    "print('src:', minVal, maxVal, minLoc, maxLoc)\n",
    "\n",
    "dst = cv2.normalize(dist, None, 0, 255, cv2.NORM_MINMAX, dtype=cv2.CV_8U)\n",
    "ret, dst2 = cv2.threshold(dist, maxVal-1, 255, cv2.THRESH_BINARY)\n",
    "\n",
    "#3 \n",
    "gx = cv2.Sobel(dist, cv2.CV_32F, 1, 0, ksize = 3)\n",
    "gy = cv2.Sobel(dist, cv2.CV_32F, 0, 1, ksize = 3)\n",
    "mag   = cv2.magnitude(gx, gy)\n",
    "minVal, maxVal, minLoc, maxLoc = cv2.minMaxLoc(mag)\n",
    "print('src:', minVal, maxVal, minLoc, maxLoc)\n",
    "ret, dst3 = cv2.threshold(mag, maxVal-2, 255, cv2.THRESH_BINARY_INV)\n",
    "\n",
    "cv2.imshow('src',  src)\n",
    "cv2.imshow('dst',  dst)\n",
    "cv2.imshow('dst2',  dst2)\n",
    "cv2.imshow('dst3',  dst3)\n",
    "cv2.waitKey()\n",
    "cv2.destroyAllWindows()"
   ]
  },
  {
   "cell_type": "markdown",
   "metadata": {},
   "source": [
    "### 5.3 cv2.watershed()"
   ]
  },
  {
   "cell_type": "code",
   "execution_count": 11,
   "metadata": {},
   "outputs": [
    {
     "name": "stdout",
     "output_type": "stream",
     "text": [
      "len(contours)= 4\n",
      "len(contours)= 4\n"
     ]
    }
   ],
   "source": [
    "import cv2\n",
    "import numpy as np\n",
    "\n",
    "#1\n",
    "#src = cv2.imread('./data/hand.jpg')\n",
    "src = cv2.imread('./data/flower.jpg')\n",
    "mask   = np.zeros(shape=src.shape[:2], dtype=np.uint8)\n",
    "markers= np.zeros(shape=src.shape[:2], dtype=np.int32)\n",
    "dst = src.copy()\n",
    "cv2.imshow('dst',dst)\n",
    "\n",
    "#2\n",
    "def onMouse(event, x, y, flags, param):\n",
    "    if event == cv2.EVENT_MOUSEMOVE:\n",
    "        if flags & cv2.EVENT_FLAG_LBUTTON:\n",
    "            cv2.circle(param[0], (x, y), 10, (255, 255, 255), -1)\n",
    "            cv2.circle(param[1], (x, y), 10, (255, 255, 255), -1) \n",
    "    cv2.imshow('dst', param[1])    \n",
    "#cv2.setMouseCallback('dst', onMouse, [mask, dst])\n",
    "\n",
    "#3\n",
    "mode = cv2.RETR_EXTERNAL\n",
    "method = cv2.CHAIN_APPROX_SIMPLE\n",
    "while True:\n",
    "    cv2.setMouseCallback('dst', onMouse, [mask, dst]) #3-1\n",
    "    key = cv2.waitKey(30) # cv2.waitKeyEx(30)\n",
    "    \n",
    "    if key == 0x1B: \n",
    "        break;\n",
    "    elif key == ord('r'): #3-2\n",
    "        mask[:,:] = 0        \n",
    "        dst = src.copy()\n",
    "        cv2.imshow('dst',dst)        \n",
    "    elif key == ord(' '): #3-3\n",
    "        image, contours, hierarchy = cv2.findContours(mask, mode, method)\n",
    "        print('len(contours)=', len(contours))\n",
    "        markers[:,:] = 0  \n",
    "        for i, cnt in enumerate(contours):\n",
    "            cv2.drawContours(markers, [cnt], 0, i+1, -1)\n",
    "        cv2.watershed(src,  markers)\n",
    "\n",
    "        #3-4        \n",
    "        dst = src.copy()\n",
    "        dst[markers == -1] = [0,0,255] # boundary\n",
    "        for i in range(len(contours)): # partitions\n",
    "          r = np.random.randint(256)\n",
    "          g = np.random.randint(256)\n",
    "          b = np.random.randint(256)\n",
    "          dst[markers == i+1] = [b, g, r]\n",
    "\n",
    "        dst = cv2.addWeighted(src, 0.4, dst, 0.6, 0) # compose\n",
    "        cv2.imshow('dst',dst)        \n",
    "cv2.destroyAllWindows()"
   ]
  },
  {
   "cell_type": "markdown",
   "metadata": {},
   "source": [
    "### 5.4 cv2.distanceTransform(), cv2.watershed()"
   ]
  },
  {
   "cell_type": "code",
   "execution_count": 12,
   "metadata": {},
   "outputs": [
    {
     "name": "stdout",
     "output_type": "stream",
     "text": [
      "dist: 0.0 76.0 (0, 0) (220, 220)\n",
      "len(contours)= 6\n"
     ]
    }
   ],
   "source": [
    "import cv2\n",
    "import numpy as np\n",
    "\n",
    "#1\n",
    "src = cv2.imread('./data/circles2.jpg')\n",
    "gray = cv2.cvtColor(src, cv2.COLOR_BGR2GRAY)\n",
    "ret, bImage = cv2.threshold(gray, 0, 255,\n",
    "                                cv2.THRESH_BINARY_INV+cv2.THRESH_OTSU)\n",
    "dist  = cv2.distanceTransform(bImage, cv2.DIST_L1, 3)\n",
    "dist8 = cv2.normalize(dist, None, 0, 255, cv2.NORM_MINMAX, dtype=cv2.CV_8U)\n",
    "cv2.imshow('bImage',bImage)\n",
    "cv2.imshow('dist8',dist8)\n",
    "\n",
    "#2\n",
    "minVal, maxVal, minLoc, maxLoc = cv2.minMaxLoc(dist)\n",
    "print('dist:', minVal, maxVal, minLoc, maxLoc)\n",
    "mask = (dist > maxVal*0.5).astype(np.uint8)*255\n",
    "cv2.imshow('mask',mask)\n",
    "\n",
    "#3\n",
    "mode = cv2.RETR_EXTERNAL\n",
    "method = cv2.CHAIN_APPROX_SIMPLE\n",
    "image, contours, hierarchy = cv2.findContours(mask, mode, method)\n",
    "print('len(contours)=', len(contours))\n",
    "\n",
    "markers= np.zeros(shape=src.shape[:2], dtype=np.int32)\n",
    "for i, cnt in enumerate(contours):\n",
    "    cv2.drawContours(markers, [cnt], 0, i+1, -1)\n",
    "\n",
    "#4\n",
    "dst = src.copy()\n",
    "cv2.watershed(src,  markers)\n",
    "\n",
    "dst[markers == -1] = [0, 0, 255] # boundary\n",
    "for i in range(len(contours)): # partitions\n",
    "    r = np.random.randint(256)\n",
    "    g = np.random.randint(256)\n",
    "    b = np.random.randint(256)\n",
    "    dst[markers == i+1] = [b, g, r]\n",
    "dst = cv2.addWeighted(src, 0.4, dst, 0.6, 0) # compose\n",
    "\n",
    "cv2.imshow('dst',dst)\n",
    "cv2.waitKey()\n",
    "cv2.destroyAllWindows()"
   ]
  },
  {
   "cell_type": "markdown",
   "metadata": {},
   "source": [
    "## 6. pyramid-based segmentation"
   ]
  },
  {
   "cell_type": "markdown",
   "metadata": {},
   "source": [
    "### 6.1 cv2.pyrDown(), cv2.pyrUp(): pyramid image"
   ]
  },
  {
   "cell_type": "code",
   "execution_count": 13,
   "metadata": {},
   "outputs": [
    {
     "name": "stdout",
     "output_type": "stream",
     "text": [
      "down2.shape= (256, 256, 3)\n",
      "down2.shape= (256, 256, 3)\n",
      "up2.shape= (1024, 1024, 3)\n",
      "up4.shape= (2048, 2048, 3)\n"
     ]
    }
   ],
   "source": [
    "import cv2\n",
    "import numpy as np\n",
    "#1\n",
    "src = cv2.imread('./data/lena.jpg')\n",
    "\n",
    "down2 = cv2.pyrDown(src)\n",
    "down4 = cv2.pyrDown(down2)\n",
    "print('down2.shape=', down2.shape)\n",
    "print('down2.shape=', down2.shape)\n",
    "\n",
    "#2\n",
    "up2 = cv2.pyrUp(src)\n",
    "up4 = cv2.pyrUp(up2)\n",
    "print('up2.shape=', up2.shape)\n",
    "print('up4.shape=', up4.shape)\n",
    "\n",
    "cv2.imshow('down2',down2)\n",
    "##cv2.imshow('down4',down4)\n",
    "cv2.imshow('up2',up2)\n",
    "##cv2.imshow('up4',up4)\n",
    "cv2.waitKey()\n",
    "cv2.destroyAllWindows()"
   ]
  },
  {
   "cell_type": "markdown",
   "metadata": {},
   "source": [
    "### 6.2 cv2.pyrMeanShiftFiltering(): area detection"
   ]
  },
  {
   "cell_type": "code",
   "execution_count": 14,
   "metadata": {},
   "outputs": [],
   "source": [
    "import cv2\n",
    "import numpy as np\n",
    "#1\n",
    "def floodFillPostProcess(src, diff=(2,2,2)):\n",
    "    img = src.copy()\n",
    "    rows, cols = img.shape[:2]\n",
    "    mask   = np.zeros(shape=(rows+2, cols+2), dtype=np.uint8)\n",
    "    for y in range(rows):\n",
    "        for x in range(cols):\n",
    "            if mask[y+1, x+1] == 0:\n",
    "                r = np.random.randint(256)\n",
    "                g = np.random.randint(256)\n",
    "                b = np.random.randint(256)\n",
    "                cv2.floodFill(img,mask,(x,y),(b,g,r),diff,diff)\n",
    "    return img\n",
    "#2\n",
    "src = cv2.imread('./data/flower.jpg')\n",
    "hsv = cv2.cvtColor(src, cv2.COLOR_BGR2HSV)\n",
    "dst  = floodFillPostProcess(src)\n",
    "dst2 = floodFillPostProcess(hsv)\n",
    "cv2.imshow('src',src)\n",
    "cv2.imshow('hsv',hsv)\n",
    "cv2.imshow('dst',dst)\n",
    "cv2.imshow('dst2',dst2)\n",
    "#3\n",
    "res = cv2.pyrMeanShiftFiltering(src, sp=5, sr=20, maxLevel=4)\n",
    "dst3 = floodFillPostProcess(res)\n",
    "\n",
    "#4\n",
    "term_crit=(cv2.TERM_CRITERIA_EPS+cv2.TERM_CRITERIA_MAX_ITER, 10, 2)\n",
    "res2=cv2.pyrMeanShiftFiltering(hsv,sp=5,sr=20,maxLevel=4, termcrit=term_crit)\n",
    "dst4 = floodFillPostProcess(res2)\n",
    "\n",
    "cv2.imshow('res',res)\n",
    "cv2.imshow('res2',res2)\n",
    "cv2.imshow('dst3',dst3)\n",
    "cv2.imshow('dst4',dst4)\n",
    "cv2.waitKey()\n",
    "cv2.destroyAllWindows()"
   ]
  },
  {
   "cell_type": "markdown",
   "metadata": {},
   "source": [
    "## 7. K-Means clustering segmentation"
   ]
  },
  {
   "cell_type": "markdown",
   "metadata": {},
   "source": [
    "### 7.1 cv2.kmeans(): Color clustering area detection"
   ]
  },
  {
   "cell_type": "code",
   "execution_count": 15,
   "metadata": {},
   "outputs": [
    {
     "name": "stdout",
     "output_type": "stream",
     "text": [
      "centers.shape= (2, 3)\n",
      "labels.shape= (261120, 1)\n",
      "ret= 1202828989.988524\n"
     ]
    }
   ],
   "source": [
    "import cv2\n",
    "import numpy as np\n",
    "#1\n",
    "#src = cv2.imread('./data/hand.jpg')\n",
    "src = cv2.imread('./data/flower.jpg')\n",
    "hsv = cv2.cvtColor(src, cv2.COLOR_BGR2HSV)\n",
    "\n",
    "data = src.reshape((-1,3)).astype(np.float32)\n",
    "##data = hsv.reshape((-1,3)).astype(np.float32)\n",
    "\n",
    "#2\n",
    "K = 2\n",
    "term_crit=(cv2.TERM_CRITERIA_EPS+cv2.TERM_CRITERIA_MAX_ITER, 10, 1.0)\n",
    "ret, labels, centers = cv2.kmeans(data, K, None, term_crit, 5,\n",
    "                                  cv2.KMEANS_RANDOM_CENTERS)\n",
    "print('centers.shape=', centers.shape)\n",
    "print('labels.shape=', labels.shape)\n",
    "print('ret=', ret)\n",
    "\n",
    "#3\n",
    "centers = np.uint8(centers)\n",
    "res   = centers[labels.flatten()]\n",
    "dst  = res.reshape(src.shape)\n",
    "\n",
    "##labels2 = np.uint8(labels.reshape(src.shape[:2]))\n",
    "##print('labels2.max()=', labels2.max())\n",
    "##dst   = np.zeros(src.shape, dtype=src.dtype)\n",
    "##for i in range(K): # Show partitions\n",
    "##    r = np.random.randint(256)\n",
    "##    g = np.random.randint(256)\n",
    "##    b = np.random.randint(256)\n",
    "##    dst[labels2 == i] = [b, g, r]\n",
    "    \n",
    "cv2.imshow('dst',dst)\n",
    "cv2.waitKey()\n",
    "cv2.destroyAllWindows()"
   ]
  },
  {
   "cell_type": "markdown",
   "metadata": {},
   "source": [
    "## 8. connected components detection"
   ]
  },
  {
   "cell_type": "markdown",
   "metadata": {},
   "source": [
    "### 8.1 Labeling1 (threshold binary image): cv2.connectedComponents()"
   ]
  },
  {
   "cell_type": "code",
   "execution_count": 16,
   "metadata": {},
   "outputs": [
    {
     "name": "stdout",
     "output_type": "stream",
     "text": [
      "ret= 4\n"
     ]
    }
   ],
   "source": [
    "import cv2\n",
    "import numpy as np\n",
    "\n",
    "#1\n",
    "src = cv2.imread('./data/circles.jpg')\n",
    "gray = cv2.cvtColor(src,cv2.COLOR_BGR2GRAY)\n",
    "ret, res = cv2.threshold(gray, 128, 255, cv2.THRESH_BINARY_INV)\n",
    "\n",
    "#2\n",
    "ret, labels = cv2.connectedComponents(res)\n",
    "print('ret=', ret)\n",
    "\n",
    "#3\n",
    "dst   = np.zeros(src.shape, dtype=src.dtype)\n",
    "for i in range(1, ret): # Show partitions\n",
    "    r = np.random.randint(256)\n",
    "    g = np.random.randint(256)\n",
    "    b = np.random.randint(256)\n",
    "    dst[labels == i] = [b, g, r]\n",
    "\n",
    "cv2.imshow('res',  res)\n",
    "cv2.imshow('dst',  dst) \n",
    "cv2.waitKey()\n",
    "cv2.destroyAllWindows()"
   ]
  },
  {
   "cell_type": "markdown",
   "metadata": {},
   "source": [
    "### 8.2 cv2.connectedComponentsWithStats() labeling"
   ]
  },
  {
   "cell_type": "code",
   "execution_count": 17,
   "metadata": {},
   "outputs": [
    {
     "name": "stdout",
     "output_type": "stream",
     "text": [
      "ret = 4\n",
      "stats = [[     0      0    512    512 222719]\n",
      " [   308     86    125    125  12281]\n",
      " [   153    145    152    152  18152]\n",
      " [   292    338    107    107   8992]]\n",
      "centroids = [[247.77339607 258.80937863]\n",
      " [370.         148.        ]\n",
      " [228.5        220.50534376]\n",
      " [345.00077847 390.99477313]]\n"
     ]
    }
   ],
   "source": [
    "import cv2\n",
    "import numpy as np\n",
    "\n",
    "#1\n",
    "src = cv2.imread('./data/circles.jpg')\n",
    "gray = cv2.cvtColor(src,cv2.COLOR_BGR2GRAY)\n",
    "ret, res = cv2.threshold(gray, 128, 255, cv2.THRESH_BINARY_INV)\n",
    "\n",
    "#2\n",
    "ret, labels, stats, centroids = cv2.connectedComponentsWithStats(res)\n",
    "print('ret =', ret)\n",
    "print('stats =', stats)\n",
    "print('centroids =', centroids)\n",
    "\n",
    "#3\n",
    "dst   = np.zeros(src.shape, dtype=src.dtype)\n",
    "for i in range(1, int(ret)): # Show partitions\n",
    "    r = np.random.randint(256)\n",
    "    g = np.random.randint(256)\n",
    "    b = np.random.randint(256)\n",
    "    dst[labels == i] = [b, g, r]\n",
    "#4    \n",
    "for i in range(1, int(ret)):\n",
    "    x, y, width, height, area = stats[i]\n",
    "    cv2.rectangle(dst, (x,y), (x+width, y+height), (0, 0, 255), 2)\n",
    "\n",
    "    cx, cy = centroids[i]\n",
    "    cv2.circle(dst, (int(cx), int(cy)), 5, (255,0,0), -1)\n",
    "       \n",
    "cv2.imshow('src',  src)\n",
    "cv2.imshow('dst',  dst) \n",
    "cv2.waitKey()\n",
    "cv2.destroyAllWindows()"
   ]
  },
  {
   "cell_type": "code",
   "execution_count": null,
   "metadata": {},
   "outputs": [],
   "source": []
  }
 ],
 "metadata": {
  "kernelspec": {
   "display_name": "Python 3",
   "language": "python",
   "name": "python3"
  },
  "language_info": {
   "codemirror_mode": {
    "name": "ipython",
    "version": 3
   },
   "file_extension": ".py",
   "mimetype": "text/x-python",
   "name": "python",
   "nbconvert_exporter": "python",
   "pygments_lexer": "ipython3",
   "version": "3.6.7"
  }
 },
 "nbformat": 4,
 "nbformat_minor": 2
}
