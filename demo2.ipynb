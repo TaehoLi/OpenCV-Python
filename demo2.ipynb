{
 "cells": [
  {
   "cell_type": "code",
   "execution_count": 1,
   "metadata": {},
   "outputs": [
    {
     "name": "stdout",
     "output_type": "stream",
     "text": [
      "3.4.2\n",
      "1.14.3\n",
      "2.2.2\n",
      "1.12.0\n"
     ]
    }
   ],
   "source": [
    "import cv2\n",
    "import numpy\n",
    "import matplotlib\n",
    "import tensorflow as tf\n",
    "\n",
    "print(cv2.__version__)\n",
    "print(numpy.__version__)\n",
    "print(matplotlib.__version__)\n",
    "print(tf.__version__)"
   ]
  },
  {
   "cell_type": "code",
   "execution_count": 6,
   "metadata": {},
   "outputs": [
    {
     "name": "stdout",
     "output_type": "stream",
     "text": [
      "CPU times: user 2 µs, sys: 1 µs, total: 3 µs\n",
      "Wall time: 4.05 µs\n",
      "100 | 0.3606408\n",
      "200 | 0.22913782\n",
      "300 | 0.26611286\n",
      "400 | 0.20882206\n",
      "500 | 0.19298488\n",
      "600 | 0.13286752\n",
      "700 | 0.39297965\n",
      "800 | 0.32808936\n",
      "900 | 0.19990316\n",
      "1000 | 0.18083847\n",
      "Accuracy: 91.98%\n"
     ]
    }
   ],
   "source": [
    "def mnist_load():\n",
    "    (train_x, train_y), (test_x, test_y) = tf.keras.datasets.mnist.load_data()\n",
    "\n",
    "    # Train set\n",
    "    # Image\n",
    "    train_x = train_x.reshape([train_x.shape[0], -1])\n",
    "    train_x = train_x.astype('float32') / 255\n",
    "    # Label\n",
    "    train_y = tf.keras.utils.to_categorical(train_y, num_classes=10)\n",
    "  \n",
    "    # Test set\n",
    "    # Image\n",
    "    test_x = test_x.reshape([test_x.shape[0], -1])\n",
    "    test_x = test_x.astype('float32') / 255\n",
    "    # Label\n",
    "    test_y = tf.keras.utils.to_categorical(test_y, num_classes=10)\n",
    "      \n",
    "    return (train_x, train_y), (test_x, test_y)\n",
    "\n",
    "(train_x, train_y), (test_x, test_y) = mnist_load()\n",
    "\n",
    "buffer_size = train_x.shape[0] + test_x.shape[0]\n",
    "\n",
    "dataset = tf.data.Dataset.from_tensor_slices(({\"image\": train_x}, train_y))\n",
    "dataset = dataset.shuffle(buffer_size).repeat().batch(100)#minibatch size\n",
    "iterator = dataset.make_one_shot_iterator()\n",
    "next_batch = iterator.get_next()\n",
    "\n",
    "x = tf.placeholder(tf.float32, [None, 784])\n",
    "W = tf.Variable(tf.zeros([784, 10]))\n",
    "\n",
    "y_pred = tf.matmul(x ,W)\n",
    "y_true = tf.placeholder(tf.float32, [None, 10])\n",
    "\n",
    "# Cost(Loss) Function\n",
    "cross_entropy = tf.reduce_mean(tf.nn.softmax_cross_entropy_with_logits_v2(logits=y_pred, labels=y_true))\n",
    "\n",
    "# Gradient Step(Optimze)\n",
    "gd_step = tf.train.GradientDescentOptimizer(learning_rate=0.5).minimize(cross_entropy)\n",
    "\n",
    "correct_mask = tf.equal(tf.argmax(y_pred, 1), tf.argmax(y_true, 1))\n",
    "accuracy = tf.reduce_mean(tf.cast(correct_mask, tf.float32))\n",
    "\n",
    "%time\n",
    "with tf.Session() as sess:\n",
    "    # 학습\n",
    "    sess.run(tf.global_variables_initializer())\n",
    "      \n",
    "    for step in range(1000): #epochs\n",
    "        batch_xs, batch_ys = sess.run(next_batch)\n",
    "        sess.run(gd_step, feed_dict={x: batch_xs['image'], y_true: batch_ys})\n",
    "          \n",
    "        if(step + 1) % 100 == 0:\n",
    "            print(step+1, '|', sess.run(cross_entropy, feed_dict={x: batch_xs['image'], y_true: batch_ys}))\n",
    "          \n",
    "    # 테스트\n",
    "    ans = sess.run(accuracy, feed_dict={x: test_x, y_true: test_y})\n",
    "      \n",
    "print(\"Accuracy: {:.2f}%\".format(ans*100))"
   ]
  },
  {
   "cell_type": "code",
   "execution_count": null,
   "metadata": {},
   "outputs": [],
   "source": []
  }
 ],
 "metadata": {
  "kernelspec": {
   "display_name": "Python 3",
   "language": "python",
   "name": "python3"
  },
  "language_info": {
   "codemirror_mode": {
    "name": "ipython",
    "version": 3
   },
   "file_extension": ".py",
   "mimetype": "text/x-python",
   "name": "python",
   "nbconvert_exporter": "python",
   "pygments_lexer": "ipython3",
   "version": "3.6.5"
  }
 },
 "nbformat": 4,
 "nbformat_minor": 2
}
