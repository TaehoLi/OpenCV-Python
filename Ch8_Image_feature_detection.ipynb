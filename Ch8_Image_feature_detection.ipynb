{
 "cells": [
  {
   "cell_type": "markdown",
   "metadata": {},
   "source": [
    "## 1. Corner point detection"
   ]
  },
  {
   "cell_type": "markdown",
   "metadata": {},
   "source": [
    "### 1.1 cv2.preCornerDetect()"
   ]
  },
  {
   "cell_type": "code",
   "execution_count": 1,
   "metadata": {},
   "outputs": [
    {
     "name": "stdout",
     "output_type": "stream",
     "text": [
      "corners.shape= (8, 2)\n"
     ]
    }
   ],
   "source": [
    "import cv2\n",
    "import numpy as np\n",
    "#1\n",
    "def findLocalMaxima(src):\n",
    "    kernel= cv2.getStructuringElement(shape=cv2.MORPH_RECT, ksize=(11,11))\n",
    "    dilate = cv2.dilate(src,kernel)# local max if kernel=None, 3x3 \n",
    "    localMax = (src == dilate)\n",
    "    \n",
    "    erode = cv2.erode(src,kernel) #  local min if kernel=None, 3x3 \n",
    "    localMax2 = src > erode      \n",
    "    localMax &= localMax2\n",
    "    points = np.argwhere(localMax == True)\n",
    "    points[:,[0, 1]] = points[:,[1, 0]] # switch x, y \n",
    "    return points\n",
    "\n",
    "#2\n",
    "src = cv2.imread('./data/CornerTest.jpg')\n",
    "gray = cv2.cvtColor(src, cv2.COLOR_BGR2GRAY)\n",
    "res = cv2.preCornerDetect(gray, ksize=3)\n",
    "ret, res2 = cv2.threshold(np.abs(res), 0.1, 0, cv2.THRESH_TOZERO)\n",
    "corners = findLocalMaxima(res2)\n",
    "print('corners.shape=', corners.shape)\n",
    "\n",
    "#3\n",
    "dst = src.copy()  \n",
    "for x, y in corners:    \n",
    "    cv2.circle(dst, (x, y), 5, (0,0,255), 2)\n",
    "    \n",
    "cv2.imshow('dst',  dst) \n",
    "cv2.waitKey()\n",
    "cv2.destroyAllWindows()"
   ]
  },
  {
   "cell_type": "markdown",
   "metadata": {},
   "source": [
    "### 1.2 cv2.cornerEigenValsAndVecs()"
   ]
  },
  {
   "cell_type": "code",
   "execution_count": 2,
   "metadata": {},
   "outputs": [
    {
     "name": "stdout",
     "output_type": "stream",
     "text": [
      "res.shape= (512, 512, 6)\n",
      "len(corners) = 8\n"
     ]
    }
   ],
   "source": [
    "import cv2\n",
    "import numpy as np\n",
    "#1\n",
    "src = cv2.imread('./data/CornerTest.jpg')\n",
    "gray = cv2.cvtColor(src, cv2.COLOR_BGR2GRAY)\n",
    "res = cv2.cornerEigenValsAndVecs(gray, blockSize=5, ksize=3)\n",
    "print('res.shape=', res.shape)\n",
    "eigen = cv2.split(res)\n",
    "\n",
    "#2\n",
    "T = 0.2\n",
    "ret, edge = cv2.threshold(eigen[0], T, 255, cv2.THRESH_BINARY)\n",
    "edge = edge.astype(np.uint8)\n",
    "\n",
    "#3\n",
    "corners = np.argwhere(eigen[1]>T)\n",
    "corners[:,[0, 1]] = corners[:,[1, 0]] # switch x, y\n",
    "print('len(corners) =', len(corners))\n",
    "\n",
    "dst = src.copy()\n",
    "for x, y in corners:  \n",
    "    cv2.circle(dst, (x, y), 5, (0,0,255), 2)\n",
    "    \n",
    "cv2.imshow('edge',  edge) \n",
    "cv2.imshow('dst',  dst)\n",
    "cv2.waitKey()\n",
    "cv2.destroyAllWindows()"
   ]
  },
  {
   "cell_type": "markdown",
   "metadata": {},
   "source": [
    "### 1.3 cv2.cornerMinEigenVal()"
   ]
  },
  {
   "cell_type": "code",
   "execution_count": 3,
   "metadata": {},
   "outputs": [
    {
     "name": "stdout",
     "output_type": "stream",
     "text": [
      "eigen.shape= (512, 512)\n",
      "len(corners ) = 8\n"
     ]
    }
   ],
   "source": [
    "import cv2\n",
    "import numpy as np\n",
    "\n",
    "#1\n",
    "src = cv2.imread('./data/CornerTest.jpg')\n",
    "gray = cv2.cvtColor(src, cv2.COLOR_BGR2GRAY)\n",
    "eigen = cv2.cornerMinEigenVal(gray, blockSize=5)\n",
    "print('eigen.shape=', eigen.shape)\n",
    "\n",
    "#2\n",
    "T = 0.2\n",
    "corners  = np.argwhere(eigen> T)\n",
    "corners[:,[0, 1]] = corners[:,[1, 0]] # switch x, y\n",
    "print('len(corners ) =', len(corners ))\n",
    "dst = src.copy()\n",
    "for x, y in corners :    \n",
    "    cv2.circle(dst, (x, y), 3, (0,0,255), 2)\n",
    "    \n",
    "cv2.imshow('dst',  dst)\n",
    "cv2.waitKey()\n",
    "cv2.destroyAllWindows()"
   ]
  },
  {
   "cell_type": "markdown",
   "metadata": {},
   "source": [
    "### 1.4 cv2.cornerHarris(), cv2.cornerSubPix()"
   ]
  },
  {
   "cell_type": "code",
   "execution_count": 4,
   "metadata": {},
   "outputs": [
    {
     "name": "stdout",
     "output_type": "stream",
     "text": [
      "corners= [[109 127]\n",
      " [264 127]\n",
      " [267 167]\n",
      " [386 170]\n",
      " [109 268]\n",
      " [167 271]\n",
      " [170 374]\n",
      " [386 374]]\n",
      "corners2= [[107.55936  125.559456]\n",
      " [265.44077  125.559235]\n",
      " [265.55923  168.44174 ]\n",
      " [387.4408   168.55888 ]\n",
      " [107.55836  269.44095 ]\n",
      " [168.4415   269.5593  ]\n",
      " [168.5592   375.4408  ]\n",
      " [387.4408   375.4408  ]]\n"
     ]
    }
   ],
   "source": [
    "import cv2\n",
    "import numpy as np\n",
    "\n",
    "#1\n",
    "def findLocalMaxima(src):\n",
    "    kernel= cv2.getStructuringElement(shape=cv2.MORPH_RECT, ksize=(11,11))\n",
    "    dilate = cv2.dilate(src,kernel)# local max if kernel=None, 3x3 \n",
    "    localMax = (src == dilate)\n",
    "    \n",
    "    erode = cv2.erode(src,kernel) #  local min if kernel=None, 3x3 \n",
    "    localMax2 = src > erode      \n",
    "    localMax &= localMax2\n",
    "    points = np.argwhere(localMax == True)\n",
    "    points[:,[0, 1]] = points[:,[1, 0]] # switch x, y\n",
    "    return points\n",
    "#2\n",
    "src = cv2.imread('./data/CornerTest.jpg')\n",
    "gray = cv2.cvtColor(src, cv2.COLOR_BGR2GRAY)\n",
    "res = cv2.cornerHarris(gray, blockSize=5, ksize=3, k=0.01)\n",
    "ret, res = cv2.threshold(np.abs(res),0.02, 0, cv2.THRESH_TOZERO)\n",
    "res8 = cv2.normalize(res, None, 0, 255, cv2.NORM_MINMAX, dtype=cv2.CV_8U)\n",
    "cv2.imshow('res8',  res8)\n",
    "\n",
    "corners = findLocalMaxima(res)\n",
    "print('corners=', corners)\n",
    "\n",
    "#3\n",
    "#corners = np.float32(corners).copy()\n",
    "corners = corners.astype(np.float32, order='C')\n",
    "term_crit = (cv2.TERM_CRITERIA_MAX_ITER+cv2.TERM_CRITERIA_EPS, 10, 0.01)\n",
    "corners2 = cv2.cornerSubPix(gray, corners,(5,5),(-1,-1), term_crit)\n",
    "print('corners2=', corners2)\n",
    "\n",
    "dst = src.copy()\n",
    "for x, y in corners2:    \n",
    "    cv2.circle(dst, (x, y), 3, (0,0,255), 2)\n",
    "cv2.imshow('dst',  dst)\n",
    "cv2.waitKey()\n",
    "cv2.destroyAllWindows()"
   ]
  },
  {
   "cell_type": "markdown",
   "metadata": {},
   "source": [
    "### 1.5 cv2.cornerHarris(), cv2.cornerSubPix()"
   ]
  },
  {
   "cell_type": "code",
   "execution_count": 5,
   "metadata": {},
   "outputs": [
    {
     "name": "stdout",
     "output_type": "stream",
     "text": [
      "centroids.shape= (9, 2)\n",
      "centroids= [[255.53481922 255.53107522]\n",
      " [108.         126.        ]\n",
      " [265.         126.        ]\n",
      " [266.         168.        ]\n",
      " [387.         169.        ]\n",
      " [108.         269.        ]\n",
      " [168.         270.        ]\n",
      " [169.         375.        ]\n",
      " [387.         375.        ]]\n",
      "corners= [[255.53482  255.53108 ]\n",
      " [107.55842  125.55865 ]\n",
      " [265.44165  125.55835 ]\n",
      " [265.55832  168.44258 ]\n",
      " [387.44168  168.55795 ]\n",
      " [107.557495 269.44186 ]\n",
      " [168.4424   269.55838 ]\n",
      " [168.55832  375.44168 ]\n",
      " [387.44168  375.44168 ]]\n"
     ]
    }
   ],
   "source": [
    "import cv2\n",
    "import numpy as np\n",
    "\n",
    "#1\n",
    "src = cv2.imread('./data/CornerTest.jpg')\n",
    "gray = cv2.cvtColor(src, cv2.COLOR_BGR2GRAY)\n",
    "res = cv2.cornerHarris(gray, blockSize=5, ksize=3, k=0.01)\n",
    "\n",
    "#2\n",
    "res = cv2.dilate(res, None) # 3x3 rect kernel\n",
    "ret, res = cv2.threshold(res, 0.01*res.max(),255,cv2.THRESH_BINARY)\n",
    "res8 = np.uint8(res)\n",
    "cv2.imshow('res8',  res8)\n",
    "\n",
    "#3\n",
    "ret, labels, stats, centroids = cv2.connectedComponentsWithStats(res8)\n",
    "print('centroids.shape=', centroids.shape)\n",
    "print('centroids=',centroids)\n",
    "centroids = np.float32(centroids)\n",
    "\n",
    "#4\n",
    "term_crit=(cv2.TERM_CRITERIA_MAX_ITER+cv2.TERM_CRITERIA_EPS,10, 0.001)\n",
    "corners = cv2.cornerSubPix(gray, centroids, (5,5), (-1,-1), term_crit)\n",
    "print('corners=',corners)\n",
    "\n",
    "#5 \n",
    "dst = src.copy()\n",
    "for x, y in corners[1:]:    \n",
    "    cv2.circle(dst, (x, y), 5, (0,0,255), 2)\n",
    "\n",
    "cv2.imshow('dst',  dst) \n",
    "cv2.waitKey()\n",
    "cv2.destroyAllWindows()"
   ]
  },
  {
   "cell_type": "markdown",
   "metadata": {},
   "source": [
    "### 1.6 cv2.goodFeaturesToTrack()"
   ]
  },
  {
   "cell_type": "code",
   "execution_count": 6,
   "metadata": {},
   "outputs": [
    {
     "name": "stdout",
     "output_type": "stream",
     "text": [
      "corners.shape= (8, 1, 2)\n",
      "corners= [[[387. 375.]]\n",
      "\n",
      " [[169. 375.]]\n",
      "\n",
      " [[265. 126.]]\n",
      "\n",
      " [[168. 270.]]\n",
      "\n",
      " [[266. 168.]]\n",
      "\n",
      " [[387. 169.]]\n",
      "\n",
      " [[108. 269.]]\n",
      "\n",
      " [[108. 126.]]]\n",
      "corners2.shape= (8, 1, 2)\n",
      "corners2= [[[387. 375.]]\n",
      "\n",
      " [[169. 375.]]\n",
      "\n",
      " [[265. 126.]]\n",
      "\n",
      " [[387. 169.]]\n",
      "\n",
      " [[108. 269.]]\n",
      "\n",
      " [[266. 168.]]\n",
      "\n",
      " [[168. 270.]]\n",
      "\n",
      " [[108. 126.]]]\n"
     ]
    }
   ],
   "source": [
    "import cv2\n",
    "import numpy as np\n",
    "\n",
    "#1\n",
    "src = cv2.imread('./data/CornerTest.jpg')\n",
    "gray = cv2.cvtColor(src, cv2.COLOR_BGR2GRAY)\n",
    "\n",
    "#K = 5 \n",
    "K = 10\n",
    "corners = cv2.goodFeaturesToTrack(gray, maxCorners=K,\n",
    "              qualityLevel=0.05, minDistance=10)\n",
    "print('corners.shape=',corners.shape)\n",
    "print('corners=',corners)\n",
    "\n",
    "#2\n",
    "corners2 = cv2.goodFeaturesToTrack(gray, maxCorners=K,\n",
    "               qualityLevel=0.05, minDistance=10,\n",
    "               useHarrisDetector=True, k=0.04)\n",
    "print('corners2.shape=',corners2.shape)\n",
    "print('corners2=',corners2)\n",
    "\n",
    "#3\n",
    "dst = src.copy()\n",
    "corners = corners.reshape(-1, 2)\n",
    "for x, y in corners:    \n",
    "    cv2.circle(dst, (x, y), 5, (0,0,255), -1)\n",
    "\n",
    "corners2 = corners2.reshape(-1, 2)\n",
    "for x, y in corners2:    \n",
    "    cv2.circle(dst, (x, y), 5, (255,0,0), 2)\n",
    "    \n",
    "cv2.imshow('dst',  dst) \n",
    "cv2.waitKey()\n",
    "cv2.destroyAllWindows()"
   ]
  },
  {
   "cell_type": "markdown",
   "metadata": {},
   "source": [
    "## 2. Chessboard pattern corner point detection"
   ]
  },
  {
   "cell_type": "markdown",
   "metadata": {},
   "source": [
    "### 2.1 cv2.findChessboardCorners()"
   ]
  },
  {
   "cell_type": "code",
   "execution_count": 7,
   "metadata": {},
   "outputs": [
    {
     "name": "stdout",
     "output_type": "stream",
     "text": [
      "corners.shape= (18, 1, 2)\n"
     ]
    }
   ],
   "source": [
    "import cv2\n",
    "import numpy as np\n",
    "\n",
    "#1\n",
    "src = cv2.imread('./data/chessBoard.jpg')\n",
    "gray = cv2.cvtColor(src, cv2.COLOR_BGR2GRAY)\n",
    "patternSize = (6, 3)\n",
    "found, corners = cv2.findChessboardCorners(src, patternSize)\n",
    "print('corners.shape=', corners.shape)\n",
    "\n",
    "#2\n",
    "term_crit=(cv2.TERM_CRITERIA_EPS+cv2.TERM_CRITERIA_MAX_ITER, 10, 0.01)\n",
    "corners2 = cv2.cornerSubPix(gray, corners, (5,5), (-1,-1), term_crit)\n",
    "\n",
    "#3\n",
    "dst = src.copy()\n",
    "cv2.drawChessboardCorners(dst, patternSize, corners2, found)\n",
    "\n",
    "cv2.imshow('dst',  dst) \n",
    "cv2.waitKey()\n",
    "cv2.destroyAllWindows()"
   ]
  },
  {
   "cell_type": "markdown",
   "metadata": {},
   "source": [
    "### 2.2 cv2.findCirclesGrid(): Circle pattern center point detection"
   ]
  },
  {
   "cell_type": "code",
   "execution_count": 8,
   "metadata": {},
   "outputs": [
    {
     "name": "stdout",
     "output_type": "stream",
     "text": [
      "centers.shape= (24, 1, 2)\n"
     ]
    }
   ],
   "source": [
    "import cv2\n",
    "import numpy as np\n",
    "\n",
    "#1\n",
    "src = cv2.imread('./data/circleGrid.jpg')\n",
    "gray = cv2.cvtColor(src, cv2.COLOR_BGR2GRAY)\n",
    "patternSize = (6, 4)\n",
    "found, centers = cv2.findCirclesGrid(src, patternSize)\n",
    "print('centers.shape=', centers.shape)\n",
    "\n",
    "#2\n",
    "term_crit=(cv2.TERM_CRITERIA_EPS+cv2.TERM_CRITERIA_MAX_ITER, 10, 0.01)\n",
    "centers2 = cv2.cornerSubPix(gray, centers, (5,5), (-1,-1), term_crit)\n",
    "\n",
    "#3\n",
    "dst = src.copy()\n",
    "cv2.drawChessboardCorners(dst, patternSize, centers2, found)\n",
    "\n",
    "cv2.imshow('dst',  dst) \n",
    "cv2.waitKey()\n",
    "cv2.destroyAllWindows()"
   ]
  },
  {
   "cell_type": "markdown",
   "metadata": {},
   "source": [
    "## 3. Image moments"
   ]
  },
  {
   "cell_type": "markdown",
   "metadata": {},
   "source": [
    "### 3.1 cv2.moments()"
   ]
  },
  {
   "cell_type": "code",
   "execution_count": 9,
   "metadata": {},
   "outputs": [
    {
     "name": "stdout",
     "output_type": "stream",
     "text": [
      "m00=79262.0\n",
      "m10=19719561.0\n",
      "m01=19943644.0\n",
      "m20=5515429769.0\n",
      "m11=5090506179.0\n",
      "m02=5490383844.0\n",
      "m30=1678594806585.0\n",
      "m21=1448966367859.0\n",
      "m12=1427069177889.0\n",
      "m03=1619623824694.0\n",
      "mu20=609408144.1012974\n",
      "mu11=128735034.94252014\n",
      "mu02=472229671.77704334\n",
      "mu30=3184447093.48999\n",
      "mu21=-2863822758.3268433\n",
      "mu12=-3664976429.7761536\n",
      "mu03=509725524.1086426\n",
      "nu20=0.09700144427924574\n",
      "nu11=0.020491167437841\n",
      "nu02=0.07516630789606452\n",
      "nu30=0.001800410227810075\n",
      "nu21=-0.0016191368967214139\n",
      "nu12=-0.002072090022265142\n",
      "nu03=0.00028818662079742156\n"
     ]
    }
   ],
   "source": [
    "import cv2\n",
    "import numpy as np\n",
    "\n",
    "#1\n",
    "src = cv2.imread('./data/momentTest.jpg')\n",
    "gray = cv2.cvtColor(src, cv2.COLOR_BGR2GRAY)\n",
    "ret, bImage = cv2.threshold(gray, 128, 255, cv2.THRESH_BINARY)\n",
    "\n",
    "#2\n",
    "##M = cv2.moments(bImage)   \n",
    "M = cv2.moments(bImage, True)\n",
    "for key, value in M.items():\n",
    "    print('{}={}'.format(key, value))\n",
    "    \n",
    "#3\n",
    "cx = int(M['m10']/M['m00'])\n",
    "cy = int(M['m01']/M['m00'])\n",
    "dst = src.copy()\n",
    "cv2.circle(dst, (cx, cy), 5, (0,0,255), 2)\n",
    "\n",
    "cv2.imshow('dst',  dst)\n",
    "cv2.waitKey()\n",
    "cv2.destroyAllWindows()"
   ]
  },
  {
   "cell_type": "markdown",
   "metadata": {},
   "source": [
    "### 3.2 cv2.moments(): Border moment"
   ]
  },
  {
   "cell_type": "code",
   "execution_count": 10,
   "metadata": {},
   "outputs": [],
   "source": [
    "import cv2\n",
    "import numpy as np\n",
    "\n",
    "#1\n",
    "src = cv2.imread('./data/circles.jpg')\n",
    "gray = cv2.cvtColor(src, cv2.COLOR_BGR2GRAY)\n",
    "ret, bImage = cv2.threshold(gray, 128, 255, cv2.THRESH_BINARY_INV)\n",
    "\n",
    "#2\n",
    "mode = cv2.RETR_EXTERNAL\n",
    "method = cv2.CHAIN_APPROX_SIMPLE\n",
    "image, contours, hierarchy = cv2.findContours(bImage, mode, method)\n",
    "\n",
    "dst = src.copy()\n",
    "cv2.drawContours(dst, contours, -1, (255,0,0), 3) # all contours\n",
    "\n",
    "#3\n",
    "for cnt in contours:\n",
    "    M = cv2.moments(cnt, True)\n",
    "##    for key, value in M.items():\n",
    "##        print('{}={}'.format(key, value))\n",
    "\n",
    "    cx = int(M['m10']/M['m00'])\n",
    "    cy = int(M['m01']/M['m00'])\n",
    "    cv2.circle(dst, (cx, cy), 5, (0,0,255), 2)\n",
    "\n",
    "cv2.imshow('dst',  dst)\n",
    "cv2.waitKey()\n",
    "cv2.destroyAllWindows()"
   ]
  },
  {
   "cell_type": "markdown",
   "metadata": {},
   "source": [
    "### 3.3 invariant moment of Hu"
   ]
  },
  {
   "cell_type": "code",
   "execution_count": 11,
   "metadata": {},
   "outputs": [
    {
     "name": "stdout",
     "output_type": "stream",
     "text": [
      "hu.shape= (7, 1)\n",
      "hu= [[ 1.72272960e-01]\n",
      " [ 2.17960438e-03]\n",
      " [ 9.24428655e-05]\n",
      " [ 1.90785217e-06]\n",
      " [ 1.11977849e-12]\n",
      " [-6.96325160e-09]\n",
      " [-2.53121609e-11]]\n",
      "A= [[ 1.41421356e-01  1.41421356e-01  1.98030817e+02]\n",
      " [-1.41421356e-01  1.41421356e-01  2.81234993e+02]]\n",
      "hu2.shape= (7, 1)\n",
      "hu2= [[ 1.72272960e-01]\n",
      " [ 2.17960438e-03]\n",
      " [ 9.24428655e-05]\n",
      " [ 1.90785217e-06]\n",
      " [ 1.11977849e-12]\n",
      " [-6.96325160e-09]\n",
      " [-2.53121609e-11]]\n",
      "diffSum= 0.0003215707378081359\n"
     ]
    }
   ],
   "source": [
    "import cv2\n",
    "import numpy as np\n",
    "\n",
    "#1\n",
    "src = cv2.imread('./data/momentTest.jpg')\n",
    "gray = cv2.cvtColor(src, cv2.COLOR_BGR2GRAY)\n",
    "ret, bImage = cv2.threshold(gray, 128, 255, cv2.THRESH_BINARY)\n",
    "\n",
    "mode = cv2.RETR_EXTERNAL\n",
    "method = cv2.CHAIN_APPROX_SIMPLE\n",
    "image, contours, hierarchy = cv2.findContours(bImage, mode, method)\n",
    "\n",
    "dst = src.copy()\n",
    "cnt = contours[0]\n",
    "cv2.drawContours(dst, [cnt], 0, (255,0,0), 3)\n",
    "\n",
    "#2\n",
    "M = cv2.moments(cnt)\n",
    "hu = cv2.HuMoments(M)\n",
    "print('hu.shape=', hu.shape)\n",
    "print('hu=', hu)\n",
    "\n",
    "#3\n",
    "angle = 45.0\n",
    "scale = 0.2\n",
    "cx = M['m10']/M['m00']\n",
    "cy = M['m01']/M['m00']\n",
    "center = (cx, cy)\n",
    "t = (20, 30)\n",
    "A = cv2.getRotationMatrix2D( center, angle, scale )\n",
    "A[:, 2] += t   # translation\n",
    "print('A=', A) # Affine transformation\n",
    "cnt2 = cv2.transform(cnt, A)\n",
    "cv2.drawContours(dst, [cnt2], 0, (0,255,0), 3)\n",
    "cv2.imshow('dst',  dst)\n",
    "\n",
    "#4\n",
    "M2 = cv2.moments(cnt2)\n",
    "hu2 = cv2.HuMoments(M2)\n",
    "print('hu2.shape=', hu2.shape)\n",
    "print('hu2=', hu)\n",
    "\n",
    "#5\n",
    "##diffSum = sum(abs(hu - hu2))\n",
    "diffSum = np.sum(cv2.absdiff(hu, hu2))\n",
    "print('diffSum=', diffSum)\n",
    "\n",
    "cv2.waitKey()\n",
    "cv2.destroyAllWindows()"
   ]
  },
  {
   "cell_type": "markdown",
   "metadata": {},
   "source": [
    "## 4. Shape-related feature detection"
   ]
  },
  {
   "cell_type": "markdown",
   "metadata": {},
   "source": [
    "### 4.1 length, area, bounding square, minimum area square, minimum area circle"
   ]
  },
  {
   "cell_type": "code",
   "execution_count": 12,
   "metadata": {},
   "outputs": [
    {
     "name": "stdout",
     "output_type": "stream",
     "text": [
      "len(contours)= 1\n",
      "maxLength= 936.0630499124527\n",
      "area= 24663.0\n",
      "box= [[275 391]\n",
      " [ 48 147]\n",
      " [159  44]\n",
      " [386 288]]\n"
     ]
    }
   ],
   "source": [
    "import cv2\n",
    "import numpy as np\n",
    "\n",
    "#1\n",
    "src = cv2.imread('./data/banana.jpg')\n",
    "gray = cv2.cvtColor(src, cv2.COLOR_BGR2GRAY)\n",
    "ret, bImage = cv2.threshold(gray, 220, 255, cv2.THRESH_BINARY_INV)\n",
    "##bImage = cv2.erode(bImage, None)\n",
    "bImage = cv2.dilate(bImage, None)\n",
    "##cv2.imshow('src',  src)\n",
    "cv2.imshow('bImage',  bImage)\n",
    "\n",
    "#2\n",
    "mode   = cv2.RETR_EXTERNAL\n",
    "method = cv2.CHAIN_APPROX_SIMPLE\n",
    "image, contours, hierarchy = cv2.findContours(bImage, mode, method)\n",
    "print('len(contours)=', len(contours))\n",
    "\n",
    "maxLength = 0\n",
    "k = 0\n",
    "for i, cnt in enumerate(contours):\n",
    "    perimeter = cv2.arcLength(cnt, closed = True)\n",
    "    if perimeter> maxLength:\n",
    "        maxLength = perimeter\n",
    "        k = i\n",
    "print('maxLength=', maxLength)\n",
    "cnt = contours[k]\n",
    "dst2 = src.copy()\n",
    "cv2.drawContours(dst2, [cnt], 0, (255,0,0), 3)\n",
    "##cv2.imshow('dst2',  dst2)\n",
    "\n",
    "#3\n",
    "area = cv2.contourArea(cnt)\n",
    "print('area=', area)\n",
    "x, y, width, height = cv2.boundingRect(cnt)\n",
    "dst3 = dst2.copy()\n",
    "cv2.rectangle(dst3, (x, y), (x+width, y+height), (0,0,255), 2)\n",
    "cv2.imshow('dst3',  dst3)\n",
    "\n",
    "#4\n",
    "rect = cv2.minAreaRect(cnt)\n",
    "box = cv2.boxPoints(rect)\n",
    "box = np.int32(box)\n",
    "print('box=', box)\n",
    "dst4 = dst2.copy()\n",
    "cv2.drawContours(dst4,[box],0,(0,0,255),2)\n",
    "cv2.imshow('dst4',  dst4)\n",
    "\n",
    "#5\n",
    "(x,y),radius = cv2.minEnclosingCircle(cnt)\n",
    "dst5 = dst2.copy()\n",
    "cv2.circle(dst5,(int(x),int(y)),int(radius),(0,0,255),2)\n",
    "cv2.imshow('dst5',  dst5)\n",
    "\n",
    "cv2.waitKey()\n",
    "cv2.destroyAllWindows()"
   ]
  },
  {
   "cell_type": "markdown",
   "metadata": {},
   "source": [
    "### 4.2 straight, polygon, elliptical approximate, and inner points"
   ]
  },
  {
   "cell_type": "code",
   "execution_count": 13,
   "metadata": {},
   "outputs": [],
   "source": [
    "import cv2\n",
    "import numpy as np\n",
    "\n",
    "#1\n",
    "src = cv2.imread('./data/banana.jpg')\n",
    "gray = cv2.cvtColor(src, cv2.COLOR_BGR2GRAY)\n",
    "ret, bImage = cv2.threshold(gray, 220, 255, cv2.THRESH_BINARY_INV)\n",
    "##bImage = cv2.erode(bImage, None)\n",
    "bImage = cv2.dilate(bImage, None)\n",
    "##cv2.imshow('src',  src)\n",
    "##cv2.imshow('bImage',  bImage)\n",
    "\n",
    "mode   = cv2.RETR_EXTERNAL\n",
    "method = cv2.CHAIN_APPROX_SIMPLE\n",
    "image, contours, hierarchy = cv2.findContours(bImage, mode, method)\n",
    "\n",
    "dst = src.copy()\n",
    "##cv2.drawContours(dst, contours, -1, (255,0,0), 3)\n",
    "cnt = contours[0]\n",
    "cv2.drawContours(dst, [cnt], 0, (255,0,0), 3)\n",
    "\n",
    "#2\n",
    "dst2 = dst.copy()\n",
    "rows,cols = dst2.shape[:2]\n",
    "[vx,vy,x,y] = cv2.fitLine(cnt, cv2.DIST_L2, 0, 0.01, 0.01)\n",
    "y1 =  int((-x*vy/vx) + y)\n",
    "y2 = int(((cols-x)*vy/vx)+y)\n",
    "cv2.line(dst2,(0,y1), (cols-1,y2),(0,0,255), 2)\n",
    "cv2.imshow('dst2',  dst2)\n",
    "\n",
    "#3\n",
    "ellipse = cv2.fitEllipse(cnt)\n",
    "dst3 = dst.copy()\n",
    "cv2.ellipse(dst3, ellipse,(0,0,255),2)\n",
    "cv2.imshow('dst3',  dst3)\n",
    "\n",
    "#4\n",
    "poly = cv2.approxPolyDP(cnt, epsilon=20, closed=True)\n",
    "dst4 = dst.copy()\n",
    "cv2.drawContours(dst4, [poly], 0, (0,0,255), 2)\n",
    "cv2.imshow('dst4',  dst4)\n",
    "\n",
    "#5\n",
    "dst5 = dst.copy()\n",
    "for y in range(rows):\n",
    "    for x in range(cols):\n",
    "        if cv2.pointPolygonTest(cnt, (x, y), False)>0:\n",
    "            dst5[y, x] = (0, 255, 0)            \n",
    "cv2.imshow('dst5',  dst5)\n",
    "\n",
    "cv2.waitKey()\n",
    "cv2.destroyAllWindows()"
   ]
  },
  {
   "cell_type": "markdown",
   "metadata": {},
   "source": [
    "### 4.3 cv2.convexHull() "
   ]
  },
  {
   "cell_type": "code",
   "execution_count": 14,
   "metadata": {},
   "outputs": [],
   "source": [
    "import cv2\n",
    "import numpy as np\n",
    "\n",
    "#1\n",
    "src = cv2.imread('./data/hand.jpg')\n",
    "hsv = cv2.cvtColor(src, cv2.COLOR_BGR2HSV)\n",
    "lowerb = (0, 40, 0)\n",
    "upperb = (20, 180, 255)\n",
    "bImage = cv2.inRange(hsv, lowerb, upperb)\n",
    "\n",
    "mode   = cv2.RETR_EXTERNAL\n",
    "method = cv2.CHAIN_APPROX_SIMPLE\n",
    "image, contours, hierarchy = cv2.findContours(bImage, mode, method)\n",
    "\n",
    "dst = src.copy()\n",
    "##cv2.drawContours(dst, contours, -1, (255,0,0), 3)\n",
    "cnt = contours[0]\n",
    "cv2.drawContours(dst, [cnt], 0, (255,0,0), 2)\n",
    "\n",
    "#2\n",
    "dst2 = dst.copy()\n",
    "rows,cols = dst2.shape[:2]\n",
    "hull = cv2.convexHull(cnt)\n",
    "cv2.drawContours(dst2, [hull], 0, (0,0,255), 2)\n",
    "cv2.imshow('dst2',  dst2)\n",
    "\n",
    "cv2.waitKey()\n",
    "cv2.destroyAllWindows()"
   ]
  },
  {
   "cell_type": "markdown",
   "metadata": {},
   "source": [
    "### 4.4 cv2.convexityDefects()"
   ]
  },
  {
   "cell_type": "code",
   "execution_count": 15,
   "metadata": {},
   "outputs": [
    {
     "name": "stdout",
     "output_type": "stream",
     "text": [
      "defects.shape= (25, 1, 4)\n"
     ]
    }
   ],
   "source": [
    "import cv2\n",
    "import numpy as np\n",
    "\n",
    "#1\n",
    "src = cv2.imread('./data/hand.jpg')\n",
    "hsv = cv2.cvtColor(src, cv2.COLOR_BGR2HSV)\n",
    "lowerb = (0, 40, 0)\n",
    "upperb = (20, 180, 255)\n",
    "bImage = cv2.inRange(hsv, lowerb, upperb)\n",
    "\n",
    "mode   = cv2.RETR_EXTERNAL\n",
    "method = cv2.CHAIN_APPROX_SIMPLE\n",
    "image, contours, hierarchy = cv2.findContours(bImage, mode, method)\n",
    "\n",
    "dst = src.copy()\n",
    "##cv2.drawContours(dst, contours, -1, (255,0,0), 3)\n",
    "cnt = contours[0]\n",
    "cv2.drawContours(dst, [cnt], 0, (255,0,0), 2)\n",
    "\n",
    "#2\n",
    "dst2 = dst.copy()\n",
    "rows,cols = dst2.shape[:2]\n",
    "hull = cv2.convexHull(cnt, returnPoints = False)\n",
    "hull_points = cnt[hull[:,0]]\n",
    "cv2.drawContours(dst2, [hull_points], 0, (255,0,255), 6)\n",
    "\n",
    "#3\n",
    "T = 5 # 5, 10\n",
    "defects = cv2.convexityDefects(cnt, hull)\n",
    "print('defects.shape=',defects.shape)\n",
    "for i in range(defects.shape[0]):\n",
    "    s,e,f,d = defects[i,0]\n",
    "    dist = d/256\n",
    "    start = tuple(cnt[s][0])\n",
    "    end   = tuple(cnt[e][0])\n",
    "    far   = tuple(cnt[f][0])    \n",
    "    if dist > T:\n",
    "        cv2.line(dst2,start,end,[255,255,0],2)\n",
    "        cv2.line(dst2,start,far,[0,255,0],1)\n",
    "        cv2.line(dst2,end,  far,[0,255,0],1)\n",
    "        \n",
    "        cv2.circle(dst2,start,5,[0,255,255],-1)\n",
    "        cv2.circle(dst2,end,  5,[0,128,255],-1)\n",
    "        cv2.circle(dst2,far,  5,[0,0,255],-1)   \n",
    "cv2.imshow('dst2',  dst2)\n",
    "\n",
    "cv2.waitKey()\n",
    "cv2.destroyAllWindows()"
   ]
  },
  {
   "cell_type": "markdown",
   "metadata": {},
   "source": [
    "## 5. Shape matching"
   ]
  },
  {
   "cell_type": "markdown",
   "metadata": {},
   "source": [
    "### 5.1 cv2.matchShapes()"
   ]
  },
  {
   "cell_type": "code",
   "execution_count": 16,
   "metadata": {},
   "outputs": [],
   "source": [
    "import cv2\n",
    "import numpy as np\n",
    "\n",
    "#1\n",
    "ref_src  = cv2.imread('./data/refShapes.jpg')\n",
    "ref_gray = cv2.cvtColor(ref_src, cv2.COLOR_BGR2GRAY)\n",
    "ret, ref_bin = cv2.threshold(ref_gray, 0, 255,\n",
    "                             cv2.THRESH_BINARY_INV+cv2.THRESH_OTSU)\n",
    "\n",
    "test_src  = cv2.imread('./data/testShapes1.jpg')\n",
    "##test_src  = cv2.imread('./data/testShapes2.jpg')\n",
    "##test_src  = cv2.imread('./data/testShapes3.jpg')\n",
    "test_gray = cv2.cvtColor(test_src, cv2.COLOR_BGR2GRAY)\n",
    "ret, test_bin = cv2.threshold(test_gray, 0, 255,\n",
    "                             cv2.THRESH_BINARY_INV+cv2.THRESH_OTSU)\n",
    "mode   = cv2.RETR_EXTERNAL\n",
    "method = cv2.CHAIN_APPROX_SIMPLE\n",
    "image, ref_contours, hierarchy = cv2.findContours(ref_bin, mode, method)\n",
    "image,test_contours, hierarchy = cv2.findContours(test_bin, mode, method)\n",
    "\n",
    "#2\n",
    "ref_dst = ref_src.copy()\n",
    "colors = ((0,0,255), (0,255,0), (255,0,0))\n",
    "for i, cnt in enumerate(ref_contours):\n",
    "    cv2.drawContours(ref_dst, [cnt], 0, colors[i], 2)\n",
    "\n",
    "#3: shape matching\n",
    "test_dst = test_src.copy()\n",
    "method = cv2.CONTOURS_MATCH_I1    \n",
    "for i, cnt1 in enumerate(test_contours):\n",
    "    matches = []\n",
    "    for cnt2 in ref_contours:\n",
    "        ret = cv2.matchShapes(cnt1, cnt2, method, 0)\n",
    "        matches.append(ret)\n",
    "    k = np.argmin(matches)\n",
    "    cv2.drawContours(test_dst, [cnt1], 0, colors[k], 2)\n",
    "       \n",
    "cv2.imshow('ref_dst',  ref_dst)\n",
    "cv2.imshow('test_dst', test_dst)\n",
    "\n",
    "cv2.waitKey()\n",
    "cv2.destroyAllWindows()"
   ]
  },
  {
   "cell_type": "markdown",
   "metadata": {},
   "source": [
    "## 6. Integral image"
   ]
  },
  {
   "cell_type": "markdown",
   "metadata": {},
   "source": [
    "### 6.1 cv2.integral()"
   ]
  },
  {
   "cell_type": "code",
   "execution_count": 17,
   "metadata": {},
   "outputs": [
    {
     "name": "stdout",
     "output_type": "stream",
     "text": [
      "A= [[ 1  2  3  4]\n",
      " [ 5  6  7  8]\n",
      " [ 9 10 11 12]\n",
      " [13 14 15 16]]\n",
      "sumA= [[  0   0   0   0   0]\n",
      " [  0   1   3   6  10]\n",
      " [  0   6  14  24  36]\n",
      " [  0  15  33  54  78]\n",
      " [  0  28  60  96 136]]\n",
      "sqsumA= [[   0    0    0    0    0]\n",
      " [   0    1    5   14   30]\n",
      " [   0   26   66  124  204]\n",
      " [   0  107  247  426  650]\n",
      " [   0  276  612 1016 1496]]\n",
      "tiltedA= [[ 0  0  0  0  0]\n",
      " [ 0  1  2  3  4]\n",
      " [ 1  8 12 16 15]\n",
      " [ 8 26 38 42 36]\n",
      " [26 60 80 84 70]]\n"
     ]
    }
   ],
   "source": [
    "import cv2\n",
    "import numpy as np\n",
    "\n",
    "#1\n",
    "A = np.arange(1, 17).reshape(4, 4).astype(np.uint8)\n",
    "print('A=', A)\n",
    "\n",
    "#2\n",
    "sumA, sqsumA, tiltedA = cv2.integral3(A)\n",
    "print('sumA=', sumA)\n",
    "print('sqsumA=', np.uint32(sqsumA))\n",
    "print('tiltedA=', tiltedA)"
   ]
  },
  {
   "cell_type": "markdown",
   "metadata": {},
   "source": [
    "### 6.2 cv2.integral()"
   ]
  },
  {
   "cell_type": "code",
   "execution_count": 18,
   "metadata": {},
   "outputs": [],
   "source": [
    "import cv2\n",
    "import numpy as np\n",
    "\n",
    "#1\n",
    "gray = cv2.imread('./data/lena.jpg', cv2.IMREAD_GRAYSCALE)\n",
    "\n",
    "#2\n",
    "gray_sum = cv2.integral(gray)\n",
    "dst = cv2.normalize(gray_sum, None, 0, 255,\n",
    "                    cv2.NORM_MINMAX, dtype=cv2.CV_8U)\n",
    "cv2.imshow('dst',  dst)\n",
    "cv2.waitKey()\n",
    "cv2.destroyAllWindows()"
   ]
  },
  {
   "cell_type": "markdown",
   "metadata": {},
   "source": [
    "## 7. Haar-like feature"
   ]
  },
  {
   "cell_type": "markdown",
   "metadata": {},
   "source": [
    "### 7.1 Haar-like feature 1"
   ]
  },
  {
   "cell_type": "code",
   "execution_count": 19,
   "metadata": {},
   "outputs": [
    {
     "name": "stdout",
     "output_type": "stream",
     "text": [
      "A= [[ 1  2  3  4  5  6]\n",
      " [ 7  8  9 10 11 12]\n",
      " [13 14 15 16 17 18]\n",
      " [19 20 21 22 23 24]\n",
      " [25 26 27 28 29 30]\n",
      " [31 32 33 34 35 36]]\n",
      "sumA= [[  0   0   0   0   0   0   0]\n",
      " [  0   1   3   6  10  15  21]\n",
      " [  0   8  18  30  44  60  78]\n",
      " [  0  21  45  72 102 135 171]\n",
      " [  0  40  84 132 184 240 300]\n",
      " [  0  65 135 210 290 375 465]\n",
      " [  0  96 198 306 420 540 666]]\n",
      "f1= -54\n",
      "f2= 324\n",
      "f3= 222\n",
      "f4= 222\n",
      "f5= 0\n"
     ]
    }
   ],
   "source": [
    "import cv2\n",
    "import numpy as np\n",
    "#1\n",
    "def rectSum(sumImage, rect):\n",
    "    x, y, w, h = rect\n",
    "    a = sumImage[y, x]\n",
    "    b = sumImage[y, x+w]\n",
    "    c = sumImage[y+h, x]\n",
    "    d = sumImage[y+h, x+w]\n",
    "    return a + d - b - c\n",
    "#2\n",
    "def compute_Haar_feature1(sumImage, rect):\n",
    "    x, y, w, h = rect\n",
    "##    print(x, y, w, h)\n",
    "    s1 = rectSum(sumImage, (x,  y, w, h))\n",
    "    s2 = rectSum(sumImage, (x+w,y, w, h))\n",
    "##    print('s1=', s1)\n",
    "##    print('s2=', s2)    \n",
    "    return s1-s2\n",
    "def compute_Haar_feature2(sumImage, rect):\n",
    "    x, y, w, h = rect\n",
    "    s1 = rectSum(sumImage, (x,  y, w, h))\n",
    "    s2 = rectSum(sumImage, (x,y+h, w, h)) \n",
    "    return s2-s1\n",
    "def compute_Haar_feature3(sumImage, rect):\n",
    "    x, y, w, h = rect\n",
    "    s1 = rectSum(sumImage, (x,    y, w, h))\n",
    "    s2 = rectSum(sumImage, (x+w,  y, w, h))\n",
    "    s3 = rectSum(sumImage, (x+2*w,y, w, h))\n",
    "    return s1-s2+s3\n",
    "def compute_Haar_feature4(sumImage, rect):\n",
    "    x, y, w, h = rect\n",
    "    s1 = rectSum(sumImage, (x,    y,  w, h))\n",
    "    s2 = rectSum(sumImage, (x,  y+h,  w, h))\n",
    "    s3 = rectSum(sumImage, (x,  y+2*h,w, h))\n",
    "    return s1-s2+s3\n",
    "def compute_Haar_feature5(sumImage, rect):\n",
    "    x, y, w, h = rect\n",
    "    s1 = rectSum(sumImage, (x,    y, w, h))\n",
    "    s2 = rectSum(sumImage, (x+w,  y, w, h))\n",
    "    s3 = rectSum(sumImage, (x,  y+h, w, h))\n",
    "    s4 = rectSum(sumImage, (x+w,y+h, w, h))\n",
    "    return s1+s4-s2-s3\n",
    "\n",
    "#3\n",
    "A = np.arange(1, 6*6+1).reshape(6, 6).astype(np.uint8)\n",
    "print('A=', A)\n",
    "\n",
    "h, w = A.shape\n",
    "sumA = cv2.integral(A)\n",
    "print('sumA=', sumA)\n",
    "\n",
    "#4\n",
    "f1 = compute_Haar_feature1(sumA, (0, 0, w//2, h))    # 3, 6\n",
    "print('f1=', f1)\n",
    "\n",
    "#5\n",
    "f2 = compute_Haar_feature2(sumA, (0, 0, w, h//2))    # 6, 3\n",
    "print('f2=', f2)\n",
    "\n",
    "#6\n",
    "f3 = compute_Haar_feature3(sumA, (0, 0, w//3, h))    # 2, 6\n",
    "print('f3=', f3)\n",
    "\n",
    "#7\n",
    "f4 = compute_Haar_feature4(sumA, (0, 0, w, h//3))    # 6, 2\n",
    "print('f4=', f4)\n",
    "\n",
    "#8\n",
    "f5 = compute_Haar_feature5(sumA, (0, 0, w//2, h//2)) # 3, 3\n",
    "print('f5=', f5)"
   ]
  },
  {
   "cell_type": "markdown",
   "metadata": {},
   "source": [
    "### 7.2 Haar-like feature 2: all possible features"
   ]
  },
  {
   "cell_type": "code",
   "execution_count": 20,
   "metadata": {},
   "outputs": [
    {
     "name": "stdout",
     "output_type": "stream",
     "text": [
      "len(f1)= 43200\n",
      "f1[0]=[1, 0, 0, 1, 1, -11]\n",
      "f1[1]=[1, 0, 0, 2, 1, 6]\n",
      "len(f2)= 43200\n",
      "f2[0]=[2, 0, 0, 1, 1, 25]\n",
      "f2[1]=[2, 0, 0, 2, 1, 6]\n",
      "len(f3)= 27600\n",
      "f3[0]=[3, 0, 0, 1, 1, 138]\n",
      "f3[1]=[3, 0, 0, 2, 1, 324]\n",
      "len(f4)= 27600\n",
      "f4[0]=[4, 0, 0, 1, 1, 170]\n",
      "f4[1]=[4, 0, 0, 2, 1, 373]\n",
      "len(f5)= 20736\n",
      "f5[0]=[5, 0, 0, 1, 1, -44]\n",
      "f5[1]=[5, 0, 0, 2, 1, 25]\n",
      "total features = 162336\n"
     ]
    }
   ],
   "source": [
    "import cv2\n",
    "import numpy as np\n",
    "\n",
    "#1\n",
    "def rectSum(sumImage, rect):\n",
    "    x, y, w, h = rect\n",
    "    a = sumImage[y, x]\n",
    "    b = sumImage[y, x+w]\n",
    "    c = sumImage[y+h, x]\n",
    "    d = sumImage[y+h, x+w]\n",
    "    return a + d - b - c\n",
    "def compute_Haar_feature1(sumImage):\n",
    "    rows, cols = sumImage.shape\n",
    "    rows -= 1\n",
    "    cols -= 1\n",
    "    f1 = []\n",
    "    for y in range(0, rows):\n",
    "        for x in range(0, cols):\n",
    "            for h in range(1, rows-y+1):\n",
    "                for w in range(1, (cols-x)//2+1):\n",
    "                    s1 = rectSum(sumImage, (x,  y, w, h))\n",
    "                    s2 = rectSum(sumImage, (x+w,y, w, h))\n",
    "                    f1.append([1, x, y, w, h, s1-s2])    \n",
    "    return f1\n",
    "def compute_Haar_feature2(sumImage):\n",
    "    rows, cols = sumImage.shape\n",
    "    rows -= 1\n",
    "    cols -= 1\n",
    "    f2 = []\n",
    "    for y in range(0, rows):\n",
    "        for x in range(0, cols):\n",
    "            for h in range(1, (rows-y)//2+1):\n",
    "                for w in range(1, cols-x+1):\n",
    "                    s1 = rectSum(sumImage, (x,  y, w, h))\n",
    "                    s2 = rectSum(sumImage, (x,y+h, w, h))\n",
    "                    f2.append([2, x, y, w, h, s2-s1])    \n",
    "    return f2\n",
    "def compute_Haar_feature3(sumImage):\n",
    "    rows, cols = sumImage.shape\n",
    "    rows -= 1\n",
    "    cols -= 1\n",
    "    f3 = []\n",
    "    for y in range(0, rows):\n",
    "        for x in range(0, cols):\n",
    "            for h in range(1, rows-y+1):\n",
    "                for w in range(1, (cols-x)//3+1):\n",
    "                    s1 = rectSum(sumImage, (x,    y, w, h))\n",
    "                    s2 = rectSum(sumImage, (x+w,  y, w, h))\n",
    "                    s3 = rectSum(sumImage, (x+2*w,y, w, h))                    \n",
    "                    f3.append([3, x, y, w, h, s1-s2+s3])    \n",
    "    return f3\n",
    "def compute_Haar_feature4(sumImage):\n",
    "    rows, cols = sumImage.shape\n",
    "    rows -= 1\n",
    "    cols -= 1\n",
    "    f4 = []\n",
    "    for y in range(0, rows):\n",
    "        for x in range(0, cols):\n",
    "            for h in range(1, (rows-y)//3+1):\n",
    "                for w in range(1, cols-x+1):\n",
    "                    s1 = rectSum(sumImage, (x,  y,   w, h))\n",
    "                    s2 = rectSum(sumImage, (x,y+h,   w, h))\n",
    "                    s3 = rectSum(sumImage, (x,y+2*h, w, h))\n",
    "                    f4.append([4, x, y, w, h, s1-s2+s3])    \n",
    "    return f4\n",
    "def compute_Haar_feature5(sumImage):\n",
    "    rows, cols = sumImage.shape\n",
    "    rows -= 1\n",
    "    cols -= 1\n",
    "    f5 = []\n",
    "    for y in range(0, rows):\n",
    "        for x in range(0, cols):\n",
    "            for h in range(1, (rows-y)//2+1):\n",
    "                for w in range(1, (cols-x)//2+1):\n",
    "                    s1 = rectSum(sumImage, (x,  y,   w, h))\n",
    "                    s2 = rectSum(sumImage, (x+w,y,   w, h))\n",
    "                    s3 = rectSum(sumImage, (x,  y+h, w, h))\n",
    "                    s4 = rectSum(sumImage, (x+w,y+h, w, h))\n",
    "                    f5.append([5, x, y, w, h, s1-s2-s3+s4])    \n",
    "    return f5\n",
    "\n",
    "#2\n",
    "gray = cv2.imread('./data/lenaFace24.jpg', cv2.IMREAD_GRAYSCALE) # 24 x 24\n",
    "gray_sum = cv2.integral(gray)\n",
    "f1 = compute_Haar_feature1(gray_sum)\n",
    "n1 = len(f1)\n",
    "print('len(f1)=',n1)\n",
    "for i, a in enumerate(f1[:2]):\n",
    "    print('f1[{}]={}'.format(i, a))\n",
    "#3\n",
    "f2 = compute_Haar_feature2(gray_sum)\n",
    "n2 = len(f2)\n",
    "print('len(f2)=',n2)\n",
    "for i, a in enumerate(f2[:2]):\n",
    "    print('f2[{}]={}'.format(i, a))\n",
    "\n",
    "#4\n",
    "f3 = compute_Haar_feature3(gray_sum)\n",
    "n3 = len(f3)\n",
    "print('len(f3)=',n3)\n",
    "for i, a in enumerate(f3[:2]):\n",
    "    print('f3[{}]={}'.format(i, a))\n",
    "\n",
    "#5\n",
    "f4 = compute_Haar_feature4(gray_sum)\n",
    "n4 = len(f4)\n",
    "print('len(f4)=',n4)\n",
    "for i, a in enumerate(f4[:2]):\n",
    "    print('f4[{}]={}'.format(i, a))\n",
    "#6\n",
    "f5 = compute_Haar_feature5(gray_sum)\n",
    "n5 = len(f5)\n",
    "print('len(f5)=',n5)\n",
    "for i, a in enumerate(f5[:2]):\n",
    "    print('f5[{}]={}'.format(i, a))\n",
    "    \n",
    "print('total features =', n1+n2+n3+n4+n5)"
   ]
  },
  {
   "cell_type": "code",
   "execution_count": null,
   "metadata": {},
   "outputs": [],
   "source": []
  }
 ],
 "metadata": {
  "kernelspec": {
   "display_name": "Python 3",
   "language": "python",
   "name": "python3"
  },
  "language_info": {
   "codemirror_mode": {
    "name": "ipython",
    "version": 3
   },
   "file_extension": ".py",
   "mimetype": "text/x-python",
   "name": "python",
   "nbconvert_exporter": "python",
   "pygments_lexer": "ipython3",
   "version": "3.6.7"
  }
 },
 "nbformat": 4,
 "nbformat_minor": 2
}
